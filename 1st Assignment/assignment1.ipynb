{
 "cells": [
  {
   "cell_type": "markdown",
   "metadata": {},
   "source": [
    "# 1st Assignment: Exploring AirBnB in Europe\n",
    "> Markella Englezou, 8210039 <br />\n",
    "> Department of Management Science and Technology <br />\n",
    "> Athens University of Economics and Business <br />\n",
    "> t8210039@aueb.gr"
   ]
  },
  {
   "cell_type": "markdown",
   "metadata": {},
   "source": [
    "*A lot has been said and written about the effect of AirBnB around the world. In this assignment, you will use the data collected by [Inside AirBnB](http://insideairbnb.com).*\n",
    "\n",
    "*Once you do that, spend some time familiarizing yourself with the data and then go ahead and do the following tasks. In the following questions, you will use data for the following cities: Amsterdam, Athens, Barcelona, Berlin, Copenhagen, Dublin, Lisbon, London, Madrid, Paris, Rome, Venice, Vienna*\n",
    "\n",
    "*You will use the data for the latest 12 months period for which data is available.*"
   ]
  },
  {
   "cell_type": "markdown",
   "metadata": {},
   "source": [
    "* Importing all necessary libraries."
   ]
  },
  {
   "cell_type": "code",
   "execution_count": 29,
   "metadata": {},
   "outputs": [],
   "source": [
    "import os\n",
    "import requests\n",
    "import numpy as np\n",
    "import pandas as pd\n",
    "import matplotlib.pyplot as plt\n",
    "import plotly.graph_objects as go\n",
    "from plotly.subplots import make_subplots\n",
    "import ipywidgets as widgets\n",
    "from IPython.display import display, clear_output"
   ]
  },
  {
   "cell_type": "markdown",
   "metadata": {},
   "source": [
    "* Downloading all necessary data."
   ]
  },
  {
   "cell_type": "code",
   "execution_count": 30,
   "metadata": {},
   "outputs": [
    {
     "name": "stdout",
     "output_type": "stream",
     "text": [
      "Downloaded listings.csv for Amsterdam\n",
      "Downloaded listings.csv for Athens\n",
      "Downloaded listings.csv for Barcelona\n",
      "Downloaded listings.csv for Berlin\n",
      "Downloaded listings.csv for Copenhagen\n",
      "Downloaded listings.csv for Dublin\n",
      "Downloaded listings.csv for Lisbon\n",
      "Downloaded listings.csv for London\n",
      "Downloaded listings.csv for Madrid\n",
      "Downloaded listings.csv for Paris\n",
      "Downloaded listings.csv for Rome\n",
      "Downloaded listings.csv for Venice\n",
      "Downloaded listings.csv for Vienna\n"
     ]
    }
   ],
   "source": [
    "# Define the base URL and city list with paths\n",
    "base_url = \"https://data.insideairbnb.com\"\n",
    "cities = {\n",
    "    \"Amsterdam\": \"/the-netherlands/north-holland/amsterdam/2024-09-05/visualisations/listings.csv\",\n",
    "    \"Athens\": \"/greece/attica/athens/2024-06-26/visualisations/listings.csv\",\n",
    "    \"Barcelona\": \"/spain/catalonia/barcelona/2024-09-06/visualisations/listings.csv\",\n",
    "    \"Berlin\": \"/germany/be/berlin/2024-06-22/visualisations/listings.csv\",\n",
    "    \"Copenhagen\": \"/denmark/hovedstaden/copenhagen/2024-06-29/visualisations/listings.csv\",\n",
    "    \"Dublin\": \"/ireland/leinster/dublin/2024-09-11/visualisations/listings.csv\",\n",
    "    \"Lisbon\": \"/portugal/lisbon/lisbon/2024-09-14/visualisations/listings.csv\",\n",
    "    \"London\": \"/united-kingdom/england/london/2024-09-06/visualisations/listings.csv\",\n",
    "    \"Madrid\": \"/spain/comunidad-de-madrid/madrid/2024-09-11/visualisations/listings.csv\",\n",
    "    \"Paris\": \"/france/ile-de-france/paris/2024-09-06/visualisations/listings.csv\",\n",
    "    \"Rome\": \"/italy/lazio/rome/2024-09-11/visualisations/listings.csv\",\n",
    "    \"Venice\": \"/italy/veneto/venice/2024-09-05/visualisations/listings.csv\",\n",
    "    \"Vienna\": \"/austria/vienna/vienna/2024-09-11/visualisations/listings.csv\"\n",
    "}\n",
    "\n",
    "# Create the base directory if it doesn't exist\n",
    "base_dir = \"data\"\n",
    "os.makedirs(base_dir, exist_ok=True)\n",
    "\n",
    "# Loop through each city and download the listings.csv\n",
    "for city, path in cities.items():\n",
    "    # Create city folder if it doesn't exist\n",
    "    city_folder = os.path.join(base_dir, city)\n",
    "    os.makedirs(city_folder, exist_ok=True)\n",
    "\n",
    "    # Construct the download URL and file path\n",
    "    url = f\"{base_url}{path}\"\n",
    "    file_path = os.path.join(city_folder, \"listings.csv\")\n",
    "    \n",
    "    # Download the file\n",
    "    response = requests.get(url)\n",
    "    if response.status_code == 200:\n",
    "        with open(file_path, 'wb') as file:\n",
    "            file.write(response.content)\n",
    "        print(f\"Downloaded listings.csv for {city}\")\n",
    "    else:\n",
    "        print(f\"Failed to download listings.csv for {city}. Status code: {response.status_code}\")"
   ]
  },
  {
   "cell_type": "markdown",
   "metadata": {},
   "source": [
    "* Creating a list of all the cities."
   ]
  },
  {
   "cell_type": "code",
   "execution_count": 31,
   "metadata": {},
   "outputs": [],
   "source": [
    "cities = [\"Amsterdam\", \"Athens\", \"Barcelona\", \"Berlin\", \"Copenhagen\", \"Dublin\", \"Lisbon\", \"London\", \"Madrid\", \"Paris\", \"Rome\", \"Venice\", \"Vienna\"]"
   ]
  },
  {
   "cell_type": "markdown",
   "metadata": {},
   "source": [
    "* Setting the path to the 'data' directory."
   ]
  },
  {
   "cell_type": "code",
   "execution_count": 32,
   "metadata": {},
   "outputs": [],
   "source": [
    "data_dir = \"data\""
   ]
  },
  {
   "cell_type": "markdown",
   "metadata": {},
   "source": [
    "# AirBnB Listings\n",
    "\n",
    "*Find the number of AirBnB listings per city. Show the information in tabular format, and also make a plot.*"
   ]
  },
  {
   "cell_type": "markdown",
   "metadata": {},
   "source": [
    "* Creating an empty list in which I will add the listings."
   ]
  },
  {
   "cell_type": "code",
   "execution_count": 33,
   "metadata": {},
   "outputs": [],
   "source": [
    "listings = []"
   ]
  },
  {
   "cell_type": "markdown",
   "metadata": {},
   "source": [
    "* Looping through each folder in the 'data' directory.\n",
    "* Checking if the path is a directory and the 'listings.csv' file exists in it.\n",
    "* Reading the csv file and appending its length to the list."
   ]
  },
  {
   "cell_type": "code",
   "execution_count": 34,
   "metadata": {},
   "outputs": [],
   "source": [
    "for city in os.listdir(data_dir): \n",
    "    city_path = os.path.join(data_dir, city)\n",
    "    if os.path.isdir(city_path):\n",
    "        csv_path = os.path.join(city_path, 'listings.csv')\n",
    "        if os.path.isfile(csv_path):\n",
    "            listing = pd.read_csv(csv_path)\n",
    "            num_listings = len(listing)\n",
    "            listings.append(num_listings)"
   ]
  },
  {
   "cell_type": "markdown",
   "metadata": {},
   "source": [
    "* Creating a DataFrame for the data."
   ]
  },
  {
   "cell_type": "code",
   "execution_count": 35,
   "metadata": {},
   "outputs": [],
   "source": [
    "df = pd.DataFrame({\n",
    "    \"City\": cities,\n",
    "    \"Listings\": listings\n",
    "})"
   ]
  },
  {
   "cell_type": "markdown",
   "metadata": {},
   "source": [
    "* Showing all findings in tabular format."
   ]
  },
  {
   "cell_type": "code",
   "execution_count": 36,
   "metadata": {},
   "outputs": [
    {
     "data": {
      "text/html": [
       "<div>\n",
       "<style scoped>\n",
       "    .dataframe tbody tr th:only-of-type {\n",
       "        vertical-align: middle;\n",
       "    }\n",
       "\n",
       "    .dataframe tbody tr th {\n",
       "        vertical-align: top;\n",
       "    }\n",
       "\n",
       "    .dataframe thead th {\n",
       "        text-align: right;\n",
       "    }\n",
       "</style>\n",
       "<table border=\"1\" class=\"dataframe\">\n",
       "  <thead>\n",
       "    <tr style=\"text-align: right;\">\n",
       "      <th></th>\n",
       "      <th>City</th>\n",
       "      <th>Listings</th>\n",
       "    </tr>\n",
       "  </thead>\n",
       "  <tbody>\n",
       "    <tr>\n",
       "      <th>0</th>\n",
       "      <td>Amsterdam</td>\n",
       "      <td>9659</td>\n",
       "    </tr>\n",
       "    <tr>\n",
       "      <th>1</th>\n",
       "      <td>Athens</td>\n",
       "      <td>13274</td>\n",
       "    </tr>\n",
       "    <tr>\n",
       "      <th>2</th>\n",
       "      <td>Barcelona</td>\n",
       "      <td>19482</td>\n",
       "    </tr>\n",
       "    <tr>\n",
       "      <th>3</th>\n",
       "      <td>Berlin</td>\n",
       "      <td>13759</td>\n",
       "    </tr>\n",
       "    <tr>\n",
       "      <th>4</th>\n",
       "      <td>Copenhagen</td>\n",
       "      <td>20909</td>\n",
       "    </tr>\n",
       "    <tr>\n",
       "      <th>5</th>\n",
       "      <td>Dublin</td>\n",
       "      <td>6175</td>\n",
       "    </tr>\n",
       "    <tr>\n",
       "      <th>6</th>\n",
       "      <td>Lisbon</td>\n",
       "      <td>24204</td>\n",
       "    </tr>\n",
       "    <tr>\n",
       "      <th>7</th>\n",
       "      <td>London</td>\n",
       "      <td>96182</td>\n",
       "    </tr>\n",
       "    <tr>\n",
       "      <th>8</th>\n",
       "      <td>Madrid</td>\n",
       "      <td>26980</td>\n",
       "    </tr>\n",
       "    <tr>\n",
       "      <th>9</th>\n",
       "      <td>Paris</td>\n",
       "      <td>95461</td>\n",
       "    </tr>\n",
       "    <tr>\n",
       "      <th>10</th>\n",
       "      <td>Rome</td>\n",
       "      <td>34061</td>\n",
       "    </tr>\n",
       "    <tr>\n",
       "      <th>11</th>\n",
       "      <td>Venice</td>\n",
       "      <td>8322</td>\n",
       "    </tr>\n",
       "    <tr>\n",
       "      <th>12</th>\n",
       "      <td>Vienna</td>\n",
       "      <td>14396</td>\n",
       "    </tr>\n",
       "  </tbody>\n",
       "</table>\n",
       "</div>"
      ],
      "text/plain": [
       "          City  Listings\n",
       "0    Amsterdam      9659\n",
       "1       Athens     13274\n",
       "2    Barcelona     19482\n",
       "3       Berlin     13759\n",
       "4   Copenhagen     20909\n",
       "5       Dublin      6175\n",
       "6       Lisbon     24204\n",
       "7       London     96182\n",
       "8       Madrid     26980\n",
       "9        Paris     95461\n",
       "10        Rome     34061\n",
       "11      Venice      8322\n",
       "12      Vienna     14396"
      ]
     },
     "execution_count": 36,
     "metadata": {},
     "output_type": "execute_result"
    }
   ],
   "source": [
    "df"
   ]
  },
  {
   "cell_type": "markdown",
   "metadata": {},
   "source": [
    "* Showing all findings in a plot."
   ]
  },
  {
   "cell_type": "code",
   "execution_count": 37,
   "metadata": {},
   "outputs": [
    {
     "data": {
      "image/png": "[encoded data removed]",
      "text/plain": [
       "<Figure size 1000x600 with 1 Axes>"
      ]
     },
     "metadata": {},
     "output_type": "display_data"
    }
   ],
   "source": [
    "plt.figure(figsize=(10, 6))\n",
    "plt.bar(df['City'], df['Listings'], color='skyblue')\n",
    "plt.title('Airbnb Listings by City')\n",
    "plt.xlabel('City')\n",
    "plt.ylabel('Listings')\n",
    "plt.xticks(rotation=45)\n",
    "plt.tight_layout()\n",
    "plt.show()"
   ]
  },
  {
   "cell_type": "markdown",
   "metadata": {},
   "source": [
    "# AirBnB Densities\n",
    "\n",
    "*Apart from the number of distinct listings, we are interested in the density, that is, the number of AirBnB listings per 1,000 inhabitants, again for the latest 12 months period for which data is available. You must determine the number of inhabitants per city in the most appropriate way. Show the information in tabular format, and also make a plot.*"
   ]
  },
  {
   "cell_type": "markdown",
   "metadata": {},
   "source": [
    "### Amsterdam"
   ]
  },
  {
   "cell_type": "markdown",
   "metadata": {},
   "source": [
    "* On the insideAirBnB map, the data for Amsterdam excludes Westport region.\n",
    "* The [Amsterdam's Municipal Research and Statistics (O&S)](https://onderzoek.amsterdam.nl/interactief/dashboard-kerncijfers?tab=indicator&thema=bevolking&indicator=BEVTOTAAL&indeling=ggwgebieden&jaar=2024&gebied=GA01&taal=nl) website provides data as of 2024 that do not include the Westport region.\n",
    "* We can see that the population of Amsterdam is 931.748."
   ]
  },
  {
   "cell_type": "markdown",
   "metadata": {},
   "source": [
    "### Athens"
   ]
  },
  {
   "cell_type": "markdown",
   "metadata": {},
   "source": [
    "* On the insideAirBnB map, the data for Athens only includes the Municipality of Athens.\n",
    "* The [Hellenic Statistical Authority (ELSTAT)](https://www.statistics.gr/el/statistics/-/publication/SAM03/-) website provides the most recent data as of 2021.\n",
    "* The population of the Municipality of Athens is 643.449."
   ]
  },
  {
   "cell_type": "markdown",
   "metadata": {},
   "source": [
    "### Barcelona"
   ]
  },
  {
   "cell_type": "markdown",
   "metadata": {},
   "source": [
    "* The [Instituto Nacional de Estadística (INE)](https://www.ine.es/jaxiT3/Tabla.htm?t=59589&L=1) website provides data as of July 2024.\n",
    "* The population of Barcelona is 5.924.293."
   ]
  },
  {
   "cell_type": "markdown",
   "metadata": {},
   "source": [
    "### Berlin"
   ]
  },
  {
   "cell_type": "markdown",
   "metadata": {},
   "source": [
    "* The [Statistisches Landesamt Berlin (Berlin-Brandenburg State Statistical Office)](https://www.statistik-berlin-brandenburg.de/kommunalstatistik/einwohnerbestand-berlin) website provides data as of 31st December 2023.\n",
    "* The population of Berlin is 3.878.100."
   ]
  },
  {
   "cell_type": "markdown",
   "metadata": {},
   "source": [
    "### Copenhagen"
   ]
  },
  {
   "cell_type": "markdown",
   "metadata": {},
   "source": [
    "* On the insideAirBnB map, the data for Copenhagen includes Fredericksberg.\n",
    "* The [Statistics Denmark’s](https://www.statbank.dk/statbank5a/SelectVarVal/Define.asp?MainTable=FOLK1AM&PLanguage=1&PXSId=0&wsid=cftree) website provides data as of September 2024, the same month the data from insideAirBnB are collected.\n",
    "* We can see that the population for Copenhagen is 664.376 and for Frederiksberg is 105.518.\n",
    "* Consequently, the population of the highlighted area is 769.894."
   ]
  },
  {
   "cell_type": "markdown",
   "metadata": {},
   "source": [
    "### Dublin"
   ]
  },
  {
   "cell_type": "markdown",
   "metadata": {},
   "source": [
    "* On the insideAirBnB map, the data for Dublin includes the entire Dublin Regional Authority area (Dublin City, Dún Laoghaire–Rathdown, Fingal and South Dublin).\n",
    "* The [Central Statistics Office (CSO) Ireland](https://visual.cso.ie/?body=entity/ima/cop/2022&boundary=C03880V04631&guid=F97E459B-57ED-49C0-8A28-2BC1C7F08E88) website provides data as of 2022.\n",
    "* The population of Dublin Regional Authority is 1.458.154."
   ]
  },
  {
   "cell_type": "markdown",
   "metadata": {},
   "source": [
    "### Lisbon"
   ]
  },
  {
   "cell_type": "markdown",
   "metadata": {},
   "source": [
    "* On the insideAirBnB map, the data for Lisbon includes the entire Greater Lisbon area (Mafra, Vila Franca de Xira, Sintra, Loures, Odivelas, Amadora, Lisbon, Oeiras and Cascais), part of the Intermunicipal Community of the West (Oeste CIM) area (Lourinha, Cadaval, Torres Vedras, Alenquer, Sobral de Monte Agraco and Arruda dos Vinhos) and Azambuja.\n",
    "* The [PORDATA](https://www.pordata.pt/pt/estatisticas/populacao/populacao-residente/populacao-residente-por-sexo-e-grupo-etario) website provides data as of 2023.\n",
    "* The population of the aforementioned countries is: Mafra-90.128, Vila Franca de Xira-139.452, Sintra-395.528, Loures-207.065, Odivelas-153.708, Amadora-178.253, Lisbon-567.131, Oeiras-175.677, Cascais-219.636, Lourinha-28.383, Cadaval-14.435, Torres Vedras-88.020, Alenquer-48.319, Sobral de Monte Agraco-11.879, Arruda dos Vinhos-15.321, \n",
    "Azambuja-22.932.\n",
    "* Hence, the total population of the region is 2.355.867."
   ]
  },
  {
   "cell_type": "markdown",
   "metadata": {},
   "source": [
    "### London"
   ]
  },
  {
   "cell_type": "markdown",
   "metadata": {},
   "source": [
    "* The [Office for National Statistics (ONS)](https://www.nomisweb.co.uk/sources/census_2021/report?compare=E12000007) website provides the most recent data as of 2021.\n",
    "* The population of London is 8.799.728."
   ]
  },
  {
   "cell_type": "markdown",
   "metadata": {},
   "source": [
    "### Madrid"
   ]
  },
  {
   "cell_type": "markdown",
   "metadata": {},
   "source": [
    "* On the insideAirBnB map, the data includes the entire Madrid City Administrative area.\n",
    "* The [Instituto Nacional de Estadística (INE)](https://www.ine.es/nomen2/index.do?accion=busquedaAvanzada&entidad_amb=no&codProv=28&codMuni=79&codEC=0&codES=0&codNUC=0&denominacion_op=like&denominacion_txt=&L=1) website provides data as of 2023.\n",
    "* The population of Madrid City Administrative area is 3.332.035."
   ]
  },
  {
   "cell_type": "markdown",
   "metadata": {},
   "source": [
    "### Paris"
   ]
  },
  {
   "cell_type": "markdown",
   "metadata": {},
   "source": [
    "* The [World Population Review](https://worldpopulationreview.com/cities/france) website provides data as of 2024.\n",
    "* The population of Paris is 2.138.551."
   ]
  },
  {
   "cell_type": "markdown",
   "metadata": {},
   "source": [
    "### Rome"
   ]
  },
  {
   "cell_type": "markdown",
   "metadata": {},
   "source": [
    "* On the insideAirBnB map, the data includes the entire Municipio I area, also known as Roma City area.\n",
    "* The [CityPopulation.de](https://www.citypopulation.de/en/italy/romacity/) website provides data as of 2021.\n",
    "* The population of the Municipio I is 2.749.031."
   ]
  },
  {
   "cell_type": "markdown",
   "metadata": {},
   "source": [
    "### Venice"
   ]
  },
  {
   "cell_type": "markdown",
   "metadata": {},
   "source": [
    "* On the insideAirBnB map, the data includes a part of the Metropolitan City of Venice. However, the non-highlighted parts are rural areas and their population can be considered insignificant.\n",
    "* The [IstatData](https://esploradati.istat.it/databrowser/#/en/dw/categories/IT1,POP,1.0/POP_POPULATION/DCIS_POPRES1/DCIS_POPRES1_REG_MUN/IT1,22_289_DF_DCIS_POPRES1_9,1.0) website provides data as of 2024.\n",
    "* The population of Venice is 250.369."
   ]
  },
  {
   "cell_type": "markdown",
   "metadata": {},
   "source": [
    "### Vienna"
   ]
  },
  {
   "cell_type": "markdown",
   "metadata": {},
   "source": [
    "* The [Statistik Austria](https://www.statistik.at/en/statistics/population-and-society/population/population-stock/population-at-beginning-of-year/quarter) website provides data as of July 2024.\n",
    "* The population of Vienna is 2.018.653."
   ]
  },
  {
   "cell_type": "markdown",
   "metadata": {},
   "source": [
    "### Total"
   ]
  },
  {
   "cell_type": "markdown",
   "metadata": {},
   "source": [
    "* Adding all populations to a list."
   ]
  },
  {
   "cell_type": "code",
   "execution_count": 38,
   "metadata": {},
   "outputs": [],
   "source": [
    "populations = [ 931748,  643449, 5924293, 3878100, 769894, 1458154, 2355867, 8799728, 3332035, 2138551, 2749031, 250369, 2018653 ]"
   ]
  },
  {
   "cell_type": "markdown",
   "metadata": {},
   "source": [
    "* The densities will be calculated as such:"
   ]
  },
  {
   "cell_type": "markdown",
   "metadata": {},
   "source": [
    "Airbnb Density = ( Total Airbnb Listings of the area / Population of the area ) × 1.000"
   ]
  },
  {
   "cell_type": "markdown",
   "metadata": {},
   "source": [
    "* Creating an empty list in which I will add the densities."
   ]
  },
  {
   "cell_type": "code",
   "execution_count": 39,
   "metadata": {},
   "outputs": [],
   "source": [
    "densities = []"
   ]
  },
  {
   "cell_type": "markdown",
   "metadata": {},
   "source": [
    "* Calculating the densities and adding them to the list."
   ]
  },
  {
   "cell_type": "code",
   "execution_count": 40,
   "metadata": {},
   "outputs": [],
   "source": [
    "i = 0\n",
    "for x in listings:\n",
    "    city_density = ( x / populations[i]) * 1000\n",
    "    densities.append(city_density)\n",
    "    i = i + 1\n"
   ]
  },
  {
   "cell_type": "markdown",
   "metadata": {},
   "source": [
    "* Adding densities to the DataFrame."
   ]
  },
  {
   "cell_type": "code",
   "execution_count": 41,
   "metadata": {},
   "outputs": [],
   "source": [
    "df['Density'] = densities"
   ]
  },
  {
   "cell_type": "markdown",
   "metadata": {},
   "source": [
    "* Showing all findings in tabular format."
   ]
  },
  {
   "cell_type": "code",
   "execution_count": 42,
   "metadata": {},
   "outputs": [
    {
     "data": {
      "text/html": [
       "<div>\n",
       "<style scoped>\n",
       "    .dataframe tbody tr th:only-of-type {\n",
       "        vertical-align: middle;\n",
       "    }\n",
       "\n",
       "    .dataframe tbody tr th {\n",
       "        vertical-align: top;\n",
       "    }\n",
       "\n",
       "    .dataframe thead th {\n",
       "        text-align: right;\n",
       "    }\n",
       "</style>\n",
       "<table border=\"1\" class=\"dataframe\">\n",
       "  <thead>\n",
       "    <tr style=\"text-align: right;\">\n",
       "      <th></th>\n",
       "      <th>City</th>\n",
       "      <th>Density</th>\n",
       "    </tr>\n",
       "  </thead>\n",
       "  <tbody>\n",
       "    <tr>\n",
       "      <th>0</th>\n",
       "      <td>Amsterdam</td>\n",
       "      <td>10.366537</td>\n",
       "    </tr>\n",
       "    <tr>\n",
       "      <th>1</th>\n",
       "      <td>Athens</td>\n",
       "      <td>20.629452</td>\n",
       "    </tr>\n",
       "    <tr>\n",
       "      <th>2</th>\n",
       "      <td>Barcelona</td>\n",
       "      <td>3.288494</td>\n",
       "    </tr>\n",
       "    <tr>\n",
       "      <th>3</th>\n",
       "      <td>Berlin</td>\n",
       "      <td>3.547871</td>\n",
       "    </tr>\n",
       "    <tr>\n",
       "      <th>4</th>\n",
       "      <td>Copenhagen</td>\n",
       "      <td>27.158284</td>\n",
       "    </tr>\n",
       "    <tr>\n",
       "      <th>5</th>\n",
       "      <td>Dublin</td>\n",
       "      <td>4.234806</td>\n",
       "    </tr>\n",
       "    <tr>\n",
       "      <th>6</th>\n",
       "      <td>Lisbon</td>\n",
       "      <td>10.273925</td>\n",
       "    </tr>\n",
       "    <tr>\n",
       "      <th>7</th>\n",
       "      <td>London</td>\n",
       "      <td>10.930111</td>\n",
       "    </tr>\n",
       "    <tr>\n",
       "      <th>8</th>\n",
       "      <td>Madrid</td>\n",
       "      <td>8.097154</td>\n",
       "    </tr>\n",
       "    <tr>\n",
       "      <th>9</th>\n",
       "      <td>Paris</td>\n",
       "      <td>44.638169</td>\n",
       "    </tr>\n",
       "    <tr>\n",
       "      <th>10</th>\n",
       "      <td>Rome</td>\n",
       "      <td>12.390184</td>\n",
       "    </tr>\n",
       "    <tr>\n",
       "      <th>11</th>\n",
       "      <td>Venice</td>\n",
       "      <td>33.238939</td>\n",
       "    </tr>\n",
       "    <tr>\n",
       "      <th>12</th>\n",
       "      <td>Vienna</td>\n",
       "      <td>7.131488</td>\n",
       "    </tr>\n",
       "  </tbody>\n",
       "</table>\n",
       "</div>"
      ],
      "text/plain": [
       "          City    Density\n",
       "0    Amsterdam  10.366537\n",
       "1       Athens  20.629452\n",
       "2    Barcelona   3.288494\n",
       "3       Berlin   3.547871\n",
       "4   Copenhagen  27.158284\n",
       "5       Dublin   4.234806\n",
       "6       Lisbon  10.273925\n",
       "7       London  10.930111\n",
       "8       Madrid   8.097154\n",
       "9        Paris  44.638169\n",
       "10        Rome  12.390184\n",
       "11      Venice  33.238939\n",
       "12      Vienna   7.131488"
      ]
     },
     "execution_count": 42,
     "metadata": {},
     "output_type": "execute_result"
    }
   ],
   "source": [
    "df[[\"City\", \"Density\"]]"
   ]
  },
  {
   "cell_type": "markdown",
   "metadata": {},
   "source": [
    "* Showing all findings in a plot."
   ]
  },
  {
   "cell_type": "code",
   "execution_count": 43,
   "metadata": {},
   "outputs": [
    {
     "data": {
      "image/png": "[encoded data removed]",
      "text/plain": [
       "<Figure size 1000x600 with 1 Axes>"
      ]
     },
     "metadata": {},
     "output_type": "display_data"
    }
   ],
   "source": [
    "plt.figure(figsize=(10, 6))\n",
    "plt.bar(df['City'], df['Density'], color='skyblue')\n",
    "plt.title('Airbnb Density per 1,000 Inhabitants by City')\n",
    "plt.xlabel('City')\n",
    "plt.ylabel('Density')\n",
    "plt.xticks(rotation=45)\n",
    "plt.tight_layout()\n",
    "plt.show()"
   ]
  },
  {
   "cell_type": "markdown",
   "metadata": {},
   "source": [
    "# Activity\n",
    "\n",
    "*We are interested in the AirBnB bookings and income per listing for each city. Calculate, for each city, the average number of nights a listing is booked, by assuming that half of the bookings have reviews, and that each booking is for three nights. Use the number of reviews for the last 12 months for each listing. To calculate the income per listing, multiply the price of each listing by the number of bookings you have calculated for the listing. Then, find the average of the income per listing for each city.*"
   ]
  },
  {
   "cell_type": "markdown",
   "metadata": {},
   "source": [
    "* The average bookings will be calculated as such: "
   ]
  },
  {
   "cell_type": "markdown",
   "metadata": {},
   "source": [
    "Bookings per City = mean ( Number of Reviews × 2 )"
   ]
  },
  {
   "cell_type": "markdown",
   "metadata": {},
   "source": [
    "* The average booked nights will be calculated as such:"
   ]
  },
  {
   "cell_type": "markdown",
   "metadata": {},
   "source": [
    "Booked Nights per City = mean ( Number of Reviews × 2 × 3 )"
   ]
  },
  {
   "cell_type": "markdown",
   "metadata": {},
   "source": [
    "* The average income will be calculated as such:"
   ]
  },
  {
   "cell_type": "markdown",
   "metadata": {},
   "source": [
    "Income per City = mean ( Price per Listing × Booked Nights ) = mean ( Price per Listing × ( Number of Reviews × 2 x 3 ) )"
   ]
  },
  {
   "cell_type": "markdown",
   "metadata": {},
   "source": [
    "* Creating empty lists in which I will add the bookings and the income."
   ]
  },
  {
   "cell_type": "code",
   "execution_count": 44,
   "metadata": {},
   "outputs": [],
   "source": [
    "average_bookings = []\n",
    "average_nights = []\n",
    "average_income = []"
   ]
  },
  {
   "cell_type": "markdown",
   "metadata": {},
   "source": [
    "* Looping through each folder in the 'data' directory.\n",
    "* Checking if the path is a directory and the 'listings.csv' file exists in it.\n",
    "* Reading the csv file and calculating bookings, booked nights and income.\n",
    "* Calculating the means of the data and appending them to their lists."
   ]
  },
  {
   "cell_type": "code",
   "execution_count": 45,
   "metadata": {},
   "outputs": [],
   "source": [
    "for city in os.listdir(data_dir): \n",
    "    city_path = os.path.join(data_dir, city)\n",
    "    if os.path.isdir(city_path):\n",
    "        csv_path = os.path.join(city_path, 'listings.csv')\n",
    "        if os.path.isfile(csv_path):\n",
    "            listing = pd.read_csv(csv_path)\n",
    "            \n",
    "            booking = (listing['number_of_reviews_ltm'].fillna(0) * 2)\n",
    "            avg_booking = booking.mean()\n",
    "            average_bookings.append(avg_booking)\n",
    "            \n",
    "            nights = booking * 3\n",
    "            avg_nights = nights.mean()\n",
    "            average_nights.append(avg_nights)\n",
    "            \n",
    "            inc = listing['price'] * nights\n",
    "            avg_income = inc.mean()\n",
    "            average_income.append(avg_income)"
   ]
  },
  {
   "cell_type": "markdown",
   "metadata": {},
   "source": [
    "* Adding average bookings, average booked nights and average income to the DataFrame."
   ]
  },
  {
   "cell_type": "code",
   "execution_count": 46,
   "metadata": {},
   "outputs": [],
   "source": [
    "df['Average Bookings'] = average_bookings\n",
    "df['Average Booked Nights'] = average_nights\n",
    "df['Average Income'] = average_income"
   ]
  },
  {
   "cell_type": "markdown",
   "metadata": {},
   "source": [
    "* Showing all findings in tabular format."
   ]
  },
  {
   "cell_type": "code",
   "execution_count": 47,
   "metadata": {},
   "outputs": [
    {
     "data": {
      "text/html": [
       "<div>\n",
       "<style scoped>\n",
       "    .dataframe tbody tr th:only-of-type {\n",
       "        vertical-align: middle;\n",
       "    }\n",
       "\n",
       "    .dataframe tbody tr th {\n",
       "        vertical-align: top;\n",
       "    }\n",
       "\n",
       "    .dataframe thead th {\n",
       "        text-align: right;\n",
       "    }\n",
       "</style>\n",
       "<table border=\"1\" class=\"dataframe\">\n",
       "  <thead>\n",
       "    <tr style=\"text-align: right;\">\n",
       "      <th></th>\n",
       "      <th>City</th>\n",
       "      <th>Average Bookings</th>\n",
       "      <th>Average Booked Nights</th>\n",
       "      <th>Average Income</th>\n",
       "    </tr>\n",
       "  </thead>\n",
       "  <tbody>\n",
       "    <tr>\n",
       "      <th>0</th>\n",
       "      <td>Amsterdam</td>\n",
       "      <td>18.741692</td>\n",
       "      <td>56.225075</td>\n",
       "      <td>16506.873062</td>\n",
       "    </tr>\n",
       "    <tr>\n",
       "      <th>1</th>\n",
       "      <td>Athens</td>\n",
       "      <td>28.772940</td>\n",
       "      <td>86.318819</td>\n",
       "      <td>8796.018825</td>\n",
       "    </tr>\n",
       "    <tr>\n",
       "      <th>2</th>\n",
       "      <td>Barcelona</td>\n",
       "      <td>23.811621</td>\n",
       "      <td>71.434863</td>\n",
       "      <td>16964.680586</td>\n",
       "    </tr>\n",
       "    <tr>\n",
       "      <th>3</th>\n",
       "      <td>Berlin</td>\n",
       "      <td>17.866705</td>\n",
       "      <td>53.600116</td>\n",
       "      <td>11798.788799</td>\n",
       "    </tr>\n",
       "    <tr>\n",
       "      <th>4</th>\n",
       "      <td>Copenhagen</td>\n",
       "      <td>10.196183</td>\n",
       "      <td>30.588550</td>\n",
       "      <td>50349.852604</td>\n",
       "    </tr>\n",
       "    <tr>\n",
       "      <th>5</th>\n",
       "      <td>Dublin</td>\n",
       "      <td>28.448259</td>\n",
       "      <td>85.344777</td>\n",
       "      <td>15502.200345</td>\n",
       "    </tr>\n",
       "    <tr>\n",
       "      <th>6</th>\n",
       "      <td>Lisbon</td>\n",
       "      <td>29.236159</td>\n",
       "      <td>87.708478</td>\n",
       "      <td>13223.195780</td>\n",
       "    </tr>\n",
       "    <tr>\n",
       "      <th>7</th>\n",
       "      <td>London</td>\n",
       "      <td>11.515211</td>\n",
       "      <td>34.545632</td>\n",
       "      <td>7016.020093</td>\n",
       "    </tr>\n",
       "    <tr>\n",
       "      <th>8</th>\n",
       "      <td>Madrid</td>\n",
       "      <td>28.323944</td>\n",
       "      <td>84.971831</td>\n",
       "      <td>12642.420068</td>\n",
       "    </tr>\n",
       "    <tr>\n",
       "      <th>9</th>\n",
       "      <td>Paris</td>\n",
       "      <td>11.213647</td>\n",
       "      <td>33.640942</td>\n",
       "      <td>8281.249416</td>\n",
       "    </tr>\n",
       "    <tr>\n",
       "      <th>10</th>\n",
       "      <td>Rome</td>\n",
       "      <td>29.576759</td>\n",
       "      <td>88.730278</td>\n",
       "      <td>17210.262675</td>\n",
       "    </tr>\n",
       "    <tr>\n",
       "      <th>11</th>\n",
       "      <td>Venice</td>\n",
       "      <td>39.225427</td>\n",
       "      <td>117.676280</td>\n",
       "      <td>26046.422968</td>\n",
       "    </tr>\n",
       "    <tr>\n",
       "      <th>12</th>\n",
       "      <td>Vienna</td>\n",
       "      <td>23.098916</td>\n",
       "      <td>69.296749</td>\n",
       "      <td>9824.910376</td>\n",
       "    </tr>\n",
       "  </tbody>\n",
       "</table>\n",
       "</div>"
      ],
      "text/plain": [
       "          City  Average Bookings  Average Booked Nights  Average Income\n",
       "0    Amsterdam         18.741692              56.225075    16506.873062\n",
       "1       Athens         28.772940              86.318819     8796.018825\n",
       "2    Barcelona         23.811621              71.434863    16964.680586\n",
       "3       Berlin         17.866705              53.600116    11798.788799\n",
       "4   Copenhagen         10.196183              30.588550    50349.852604\n",
       "5       Dublin         28.448259              85.344777    15502.200345\n",
       "6       Lisbon         29.236159              87.708478    13223.195780\n",
       "7       London         11.515211              34.545632     7016.020093\n",
       "8       Madrid         28.323944              84.971831    12642.420068\n",
       "9        Paris         11.213647              33.640942     8281.249416\n",
       "10        Rome         29.576759              88.730278    17210.262675\n",
       "11      Venice         39.225427             117.676280    26046.422968\n",
       "12      Vienna         23.098916              69.296749     9824.910376"
      ]
     },
     "execution_count": 47,
     "metadata": {},
     "output_type": "execute_result"
    }
   ],
   "source": [
    "df[[\"City\", \"Average Bookings\", \"Average Booked Nights\", \"Average Income\"]]"
   ]
  },
  {
   "cell_type": "markdown",
   "metadata": {},
   "source": [
    "# Cross-Check\n",
    "\n",
    "*Find the total number of bookings and nights spent over the last 12 months period for which you have data, for each of the cities. Then compare your findings with publicly available data. Explain how you sourced the data, the methodology that has been used for their collection, and your assessment of their quality. Discuss any differences from your own results.*"
   ]
  },
  {
   "cell_type": "markdown",
   "metadata": {},
   "source": [
    "* The total bookings will be calculated as such: "
   ]
  },
  {
   "cell_type": "markdown",
   "metadata": {},
   "source": [
    "Bookings per City = sum ( Number of Reviews × 2 )"
   ]
  },
  {
   "cell_type": "markdown",
   "metadata": {},
   "source": [
    "* The total booked nights will be calculated as such:"
   ]
  },
  {
   "cell_type": "markdown",
   "metadata": {},
   "source": [
    "Booked Nights per City = sum ( Number of Reviews × 2 × 3 )"
   ]
  },
  {
   "cell_type": "markdown",
   "metadata": {},
   "source": [
    "* Creating empty lists in which I will add the bookings and the nights."
   ]
  },
  {
   "cell_type": "code",
   "execution_count": 48,
   "metadata": {},
   "outputs": [],
   "source": [
    "total_bookings = []\n",
    "total_nights = []"
   ]
  },
  {
   "cell_type": "markdown",
   "metadata": {},
   "source": [
    "* Looping through each folder in the 'data' directory.\n",
    "* Checking if the path is a directory and the 'listings.csv' file exists in it.\n",
    "* Reading the csv file and calculating bookings per listing and booked nights per listing.\n",
    "* Calculating the sum of the data and appending them to their lists."
   ]
  },
  {
   "cell_type": "code",
   "execution_count": 49,
   "metadata": {},
   "outputs": [],
   "source": [
    "for city in os.listdir(data_dir): \n",
    "    city_path = os.path.join(data_dir, city)\n",
    "    if os.path.isdir(city_path):\n",
    "        csv_path = os.path.join(city_path, 'listings.csv')\n",
    "        if os.path.isfile(csv_path):\n",
    "            listing = pd.read_csv(csv_path)\n",
    "            \n",
    "            booking = (listing['number_of_reviews_ltm'].fillna(0) * 2)\n",
    "            tot_booking = booking.sum()\n",
    "            total_bookings.append(tot_booking)\n",
    "            \n",
    "            nights = booking * 3\n",
    "            tot_nights = nights.sum()\n",
    "            total_nights.append(tot_nights)"
   ]
  },
  {
   "cell_type": "markdown",
   "metadata": {},
   "source": [
    "* Adding bookings and nights to the DataFrame."
   ]
  },
  {
   "cell_type": "code",
   "execution_count": 50,
   "metadata": {},
   "outputs": [],
   "source": [
    "df['Total Bookings'] = total_bookings\n",
    "df['Total Booked Nights'] = total_nights"
   ]
  },
  {
   "cell_type": "markdown",
   "metadata": {},
   "source": [
    "* Showing all findings in tabular format."
   ]
  },
  {
   "cell_type": "code",
   "execution_count": 51,
   "metadata": {},
   "outputs": [
    {
     "data": {
      "text/html": [
       "<div>\n",
       "<style scoped>\n",
       "    .dataframe tbody tr th:only-of-type {\n",
       "        vertical-align: middle;\n",
       "    }\n",
       "\n",
       "    .dataframe tbody tr th {\n",
       "        vertical-align: top;\n",
       "    }\n",
       "\n",
       "    .dataframe thead th {\n",
       "        text-align: right;\n",
       "    }\n",
       "</style>\n",
       "<table border=\"1\" class=\"dataframe\">\n",
       "  <thead>\n",
       "    <tr style=\"text-align: right;\">\n",
       "      <th></th>\n",
       "      <th>City</th>\n",
       "      <th>Total Bookings</th>\n",
       "      <th>Total Booked Nights</th>\n",
       "    </tr>\n",
       "  </thead>\n",
       "  <tbody>\n",
       "    <tr>\n",
       "      <th>0</th>\n",
       "      <td>Amsterdam</td>\n",
       "      <td>181026</td>\n",
       "      <td>543078</td>\n",
       "    </tr>\n",
       "    <tr>\n",
       "      <th>1</th>\n",
       "      <td>Athens</td>\n",
       "      <td>381932</td>\n",
       "      <td>1145796</td>\n",
       "    </tr>\n",
       "    <tr>\n",
       "      <th>2</th>\n",
       "      <td>Barcelona</td>\n",
       "      <td>463898</td>\n",
       "      <td>1391694</td>\n",
       "    </tr>\n",
       "    <tr>\n",
       "      <th>3</th>\n",
       "      <td>Berlin</td>\n",
       "      <td>245828</td>\n",
       "      <td>737484</td>\n",
       "    </tr>\n",
       "    <tr>\n",
       "      <th>4</th>\n",
       "      <td>Copenhagen</td>\n",
       "      <td>213192</td>\n",
       "      <td>639576</td>\n",
       "    </tr>\n",
       "    <tr>\n",
       "      <th>5</th>\n",
       "      <td>Dublin</td>\n",
       "      <td>175668</td>\n",
       "      <td>527004</td>\n",
       "    </tr>\n",
       "    <tr>\n",
       "      <th>6</th>\n",
       "      <td>Lisbon</td>\n",
       "      <td>707632</td>\n",
       "      <td>2122896</td>\n",
       "    </tr>\n",
       "    <tr>\n",
       "      <th>7</th>\n",
       "      <td>London</td>\n",
       "      <td>1107556</td>\n",
       "      <td>3322668</td>\n",
       "    </tr>\n",
       "    <tr>\n",
       "      <th>8</th>\n",
       "      <td>Madrid</td>\n",
       "      <td>764180</td>\n",
       "      <td>2292540</td>\n",
       "    </tr>\n",
       "    <tr>\n",
       "      <th>9</th>\n",
       "      <td>Paris</td>\n",
       "      <td>1070466</td>\n",
       "      <td>3211398</td>\n",
       "    </tr>\n",
       "    <tr>\n",
       "      <th>10</th>\n",
       "      <td>Rome</td>\n",
       "      <td>1007414</td>\n",
       "      <td>3022242</td>\n",
       "    </tr>\n",
       "    <tr>\n",
       "      <th>11</th>\n",
       "      <td>Venice</td>\n",
       "      <td>326434</td>\n",
       "      <td>979302</td>\n",
       "    </tr>\n",
       "    <tr>\n",
       "      <th>12</th>\n",
       "      <td>Vienna</td>\n",
       "      <td>332532</td>\n",
       "      <td>997596</td>\n",
       "    </tr>\n",
       "  </tbody>\n",
       "</table>\n",
       "</div>"
      ],
      "text/plain": [
       "          City  Total Bookings  Total Booked Nights\n",
       "0    Amsterdam          181026               543078\n",
       "1       Athens          381932              1145796\n",
       "2    Barcelona          463898              1391694\n",
       "3       Berlin          245828               737484\n",
       "4   Copenhagen          213192               639576\n",
       "5       Dublin          175668               527004\n",
       "6       Lisbon          707632              2122896\n",
       "7       London         1107556              3322668\n",
       "8       Madrid          764180              2292540\n",
       "9        Paris         1070466              3211398\n",
       "10        Rome         1007414              3022242\n",
       "11      Venice          326434               979302\n",
       "12      Vienna          332532               997596"
      ]
     },
     "execution_count": 51,
     "metadata": {},
     "output_type": "execute_result"
    }
   ],
   "source": [
    "df[[\"City\", \"Total Bookings\", \"Total Booked Nights\"]]"
   ]
  },
  {
   "cell_type": "markdown",
   "metadata": {},
   "source": [
    "### Research"
   ]
  },
  {
   "cell_type": "markdown",
   "metadata": {},
   "source": [
    "* My data sources are [Airbtics](https://airbtics.com/airbnb-occupancy-rate/) and [Backlinko](https://backlinko.com/airbnb-stats#average-nights-per-airbnb-booking).\n",
    "* Both are third-party companies that provide publicly available data.\n",
    "* Because we needed exact numbers and not just percentages, I had to collect and combine data from the listed sources.\n",
    "* The data collected, however, can be considered quite accurate, since both companies update their information often and are generally considered reliable sources. It must be noted, though, that Backlinko does not directly provide data, but reports from experts."
   ]
  },
  {
   "cell_type": "markdown",
   "metadata": {},
   "source": [
    "* In order to find as reliable data as I could, I created an account in [Airbtics](https://airbtics.com/airbnb-occupancy-rate/), which is an Airbnb data and analytics company that updates its data every week.\n",
    "* In this website, occupancy is stated as \"How often was a typical active property occupied over the last 12 months?\".\n",
    "* Consequently, I am able to calculate the total booked nights for the past 12 months as such:"
   ]
  },
  {
   "cell_type": "markdown",
   "metadata": {},
   "source": [
    "Booked Nights = Active Listings × Average Occupancy Rate × 365"
   ]
  },
  {
   "cell_type": "markdown",
   "metadata": {},
   "source": [
    "* Unfortunately, I was not able to find an exact number for bookings.\n",
    "* However, according to [Backlinko](https://backlinko.com/airbnb-stats#average-nights-per-airbnb-booking), which has well-researched content and often includes data from case studies, surveys, and analyses of real-world scenarios, the average nights per booking in Europe are 3,9.\n",
    "* Consequently, I am able to calculate the total bookings for the past 12 months as such:"
   ]
  },
  {
   "cell_type": "markdown",
   "metadata": {},
   "source": [
    "Bookings = Booked Nights / 3.9"
   ]
  },
  {
   "cell_type": "markdown",
   "metadata": {},
   "source": [
    "### Amsterdam"
   ]
  },
  {
   "cell_type": "markdown",
   "metadata": {},
   "source": [
    "* The active listings are 4.346.\n",
    "* The average occupancy rate is 85%."
   ]
  },
  {
   "cell_type": "markdown",
   "metadata": {},
   "source": [
    "### Athens"
   ]
  },
  {
   "cell_type": "markdown",
   "metadata": {},
   "source": [
    "* The active listings are 11.617.\n",
    "* The average occupancy rate is 72%."
   ]
  },
  {
   "cell_type": "markdown",
   "metadata": {},
   "source": [
    "### Barcelona"
   ]
  },
  {
   "cell_type": "markdown",
   "metadata": {},
   "source": [
    "* The active listings are 11.566.\n",
    "* The average occupancy rate is 86%."
   ]
  },
  {
   "cell_type": "markdown",
   "metadata": {},
   "source": [
    "### Berlin"
   ]
  },
  {
   "cell_type": "markdown",
   "metadata": {},
   "source": [
    "* The active listings are 6.311.\n",
    "* The average occupancy rate is 81%."
   ]
  },
  {
   "cell_type": "markdown",
   "metadata": {},
   "source": [
    "### Copenhagen"
   ]
  },
  {
   "cell_type": "markdown",
   "metadata": {},
   "source": [
    "* The active listings are 8.672.\n",
    "* The average occupancy rate is 84%."
   ]
  },
  {
   "cell_type": "markdown",
   "metadata": {},
   "source": [
    "### Dublin"
   ]
  },
  {
   "cell_type": "markdown",
   "metadata": {},
   "source": [
    "* The active listings are 3.755.\n",
    "* The average occupancy rate is 74%."
   ]
  },
  {
   "cell_type": "markdown",
   "metadata": {},
   "source": [
    "### Lisbon"
   ]
  },
  {
   "cell_type": "markdown",
   "metadata": {},
   "source": [
    "* The active listings are 12.560.\n",
    "* The average occupancy rate is 84%."
   ]
  },
  {
   "cell_type": "markdown",
   "metadata": {},
   "source": [
    "### London"
   ]
  },
  {
   "cell_type": "markdown",
   "metadata": {},
   "source": [
    "* The active listings are 50.333.\n",
    "* The average occupancy rate is 74%."
   ]
  },
  {
   "cell_type": "markdown",
   "metadata": {},
   "source": [
    "### Madrid"
   ]
  },
  {
   "cell_type": "markdown",
   "metadata": {},
   "source": [
    "* The active listings are 18.143.\n",
    "* The average occupancy rate is 83%."
   ]
  },
  {
   "cell_type": "markdown",
   "metadata": {},
   "source": [
    "### Paris"
   ]
  },
  {
   "cell_type": "markdown",
   "metadata": {},
   "source": [
    "* The active listings are 19.928.\n",
    "* The average occupancy rate is 77%."
   ]
  },
  {
   "cell_type": "markdown",
   "metadata": {},
   "source": [
    "### Rome"
   ]
  },
  {
   "cell_type": "markdown",
   "metadata": {},
   "source": [
    "* The active listings are 24.924.\n",
    "* The average occupancy rate is 81%."
   ]
  },
  {
   "cell_type": "markdown",
   "metadata": {},
   "source": [
    "### Venice"
   ]
  },
  {
   "cell_type": "markdown",
   "metadata": {},
   "source": [
    "* The active listings are 7.146.\n",
    "* The average occupancy rate is 74%."
   ]
  },
  {
   "cell_type": "markdown",
   "metadata": {},
   "source": [
    "### Vienna"
   ]
  },
  {
   "cell_type": "markdown",
   "metadata": {},
   "source": [
    "* The active listings are 10.080.\n",
    "* The average occupancy rate is 76%."
   ]
  },
  {
   "cell_type": "markdown",
   "metadata": {},
   "source": [
    "### Calculations and Comparison"
   ]
  },
  {
   "cell_type": "markdown",
   "metadata": {},
   "source": [
    "* Adding all active listings and average occupancy rates in lists."
   ]
  },
  {
   "cell_type": "code",
   "execution_count": 52,
   "metadata": {},
   "outputs": [],
   "source": [
    "active_listings = [4346, 11617, 11566, 6311, 8672, 3755, 12560, 50333, 18143, 19928, 24924, 7146, 10080]\n",
    "average_occupancy_rates = [0.85, 0.72, 0.86, 0.81, 0.84, 0.74, 0.84, 0.74, 0.83, 0.77, 0.81, 0.74, 0.76]"
   ]
  },
  {
   "cell_type": "markdown",
   "metadata": {},
   "source": [
    "* Calculating the total nights and total bookings according to my research."
   ]
  },
  {
   "cell_type": "code",
   "execution_count": 53,
   "metadata": {},
   "outputs": [],
   "source": [
    "# Calculate total nights\n",
    "researched_total_nights = []\n",
    "for i in range(len(active_listings)):\n",
    "    total_nights = active_listings[i] * average_occupancy_rates[i] * 365\n",
    "    researched_total_nights.append(round(total_nights))\n",
    "\n",
    "# Calculate total bookings\n",
    "researched_total_bookings = []\n",
    "for i in range(len(researched_total_nights)):\n",
    "    total_bookings = researched_total_nights[i] / 3.9\n",
    "    researched_total_bookings.append(round(total_bookings))"
   ]
  },
  {
   "cell_type": "markdown",
   "metadata": {},
   "source": [
    "* Adding them to the DataFrame."
   ]
  },
  {
   "cell_type": "code",
   "execution_count": 54,
   "metadata": {},
   "outputs": [],
   "source": [
    "df['Researched Total Bookings'] = researched_total_bookings\n",
    "df['Researched Total Booked Nights'] = researched_total_nights"
   ]
  },
  {
   "cell_type": "markdown",
   "metadata": {},
   "source": [
    "* Showing all findings in tabular format."
   ]
  },
  {
   "cell_type": "code",
   "execution_count": 55,
   "metadata": {},
   "outputs": [
    {
     "data": {
      "text/html": [
       "<div>\n",
       "<style scoped>\n",
       "    .dataframe tbody tr th:only-of-type {\n",
       "        vertical-align: middle;\n",
       "    }\n",
       "\n",
       "    .dataframe tbody tr th {\n",
       "        vertical-align: top;\n",
       "    }\n",
       "\n",
       "    .dataframe thead th {\n",
       "        text-align: right;\n",
       "    }\n",
       "</style>\n",
       "<table border=\"1\" class=\"dataframe\">\n",
       "  <thead>\n",
       "    <tr style=\"text-align: right;\">\n",
       "      <th></th>\n",
       "      <th>City</th>\n",
       "      <th>Total Bookings</th>\n",
       "      <th>Total Booked Nights</th>\n",
       "      <th>Researched Total Bookings</th>\n",
       "      <th>Researched Total Booked Nights</th>\n",
       "    </tr>\n",
       "  </thead>\n",
       "  <tbody>\n",
       "    <tr>\n",
       "      <th>0</th>\n",
       "      <td>Amsterdam</td>\n",
       "      <td>181026</td>\n",
       "      <td>543078</td>\n",
       "      <td>345730</td>\n",
       "      <td>1348346</td>\n",
       "    </tr>\n",
       "    <tr>\n",
       "      <th>1</th>\n",
       "      <td>Athens</td>\n",
       "      <td>381932</td>\n",
       "      <td>1145796</td>\n",
       "      <td>782807</td>\n",
       "      <td>3052948</td>\n",
       "    </tr>\n",
       "    <tr>\n",
       "      <th>2</th>\n",
       "      <td>Barcelona</td>\n",
       "      <td>463898</td>\n",
       "      <td>1391694</td>\n",
       "      <td>930915</td>\n",
       "      <td>3630567</td>\n",
       "    </tr>\n",
       "    <tr>\n",
       "      <th>3</th>\n",
       "      <td>Berlin</td>\n",
       "      <td>245828</td>\n",
       "      <td>737484</td>\n",
       "      <td>478422</td>\n",
       "      <td>1865847</td>\n",
       "    </tr>\n",
       "    <tr>\n",
       "      <th>4</th>\n",
       "      <td>Copenhagen</td>\n",
       "      <td>213192</td>\n",
       "      <td>639576</td>\n",
       "      <td>681753</td>\n",
       "      <td>2658835</td>\n",
       "    </tr>\n",
       "    <tr>\n",
       "      <th>5</th>\n",
       "      <td>Dublin</td>\n",
       "      <td>175668</td>\n",
       "      <td>527004</td>\n",
       "      <td>260058</td>\n",
       "      <td>1014225</td>\n",
       "    </tr>\n",
       "    <tr>\n",
       "      <th>6</th>\n",
       "      <td>Lisbon</td>\n",
       "      <td>707632</td>\n",
       "      <td>2122896</td>\n",
       "      <td>987409</td>\n",
       "      <td>3850896</td>\n",
       "    </tr>\n",
       "    <tr>\n",
       "      <th>7</th>\n",
       "      <td>London</td>\n",
       "      <td>1107556</td>\n",
       "      <td>3322668</td>\n",
       "      <td>3485883</td>\n",
       "      <td>13594943</td>\n",
       "    </tr>\n",
       "    <tr>\n",
       "      <th>8</th>\n",
       "      <td>Madrid</td>\n",
       "      <td>764180</td>\n",
       "      <td>2292540</td>\n",
       "      <td>1409339</td>\n",
       "      <td>5496422</td>\n",
       "    </tr>\n",
       "    <tr>\n",
       "      <th>9</th>\n",
       "      <td>Paris</td>\n",
       "      <td>1070466</td>\n",
       "      <td>3211398</td>\n",
       "      <td>1436093</td>\n",
       "      <td>5600764</td>\n",
       "    </tr>\n",
       "    <tr>\n",
       "      <th>10</th>\n",
       "      <td>Rome</td>\n",
       "      <td>1007414</td>\n",
       "      <td>3022242</td>\n",
       "      <td>1889431</td>\n",
       "      <td>7368781</td>\n",
       "    </tr>\n",
       "    <tr>\n",
       "      <th>11</th>\n",
       "      <td>Venice</td>\n",
       "      <td>326434</td>\n",
       "      <td>979302</td>\n",
       "      <td>494906</td>\n",
       "      <td>1930135</td>\n",
       "    </tr>\n",
       "    <tr>\n",
       "      <th>12</th>\n",
       "      <td>Vienna</td>\n",
       "      <td>332532</td>\n",
       "      <td>997596</td>\n",
       "      <td>716972</td>\n",
       "      <td>2796192</td>\n",
       "    </tr>\n",
       "  </tbody>\n",
       "</table>\n",
       "</div>"
      ],
      "text/plain": [
       "          City  Total Bookings  Total Booked Nights  \\\n",
       "0    Amsterdam          181026               543078   \n",
       "1       Athens          381932              1145796   \n",
       "2    Barcelona          463898              1391694   \n",
       "3       Berlin          245828               737484   \n",
       "4   Copenhagen          213192               639576   \n",
       "5       Dublin          175668               527004   \n",
       "6       Lisbon          707632              2122896   \n",
       "7       London         1107556              3322668   \n",
       "8       Madrid          764180              2292540   \n",
       "9        Paris         1070466              3211398   \n",
       "10        Rome         1007414              3022242   \n",
       "11      Venice          326434               979302   \n",
       "12      Vienna          332532               997596   \n",
       "\n",
       "    Researched Total Bookings  Researched Total Booked Nights  \n",
       "0                      345730                         1348346  \n",
       "1                      782807                         3052948  \n",
       "2                      930915                         3630567  \n",
       "3                      478422                         1865847  \n",
       "4                      681753                         2658835  \n",
       "5                      260058                         1014225  \n",
       "6                      987409                         3850896  \n",
       "7                     3485883                        13594943  \n",
       "8                     1409339                         5496422  \n",
       "9                     1436093                         5600764  \n",
       "10                    1889431                         7368781  \n",
       "11                     494906                         1930135  \n",
       "12                     716972                         2796192  "
      ]
     },
     "execution_count": 55,
     "metadata": {},
     "output_type": "execute_result"
    }
   ],
   "source": [
    "df[[\"City\", \"Total Bookings\", \"Total Booked Nights\", \"Researched Total Bookings\", \"Researched Total Booked Nights\"]]"
   ]
  },
  {
   "cell_type": "markdown",
   "metadata": {},
   "source": [
    "* It is obvious that in most cities, the researched data shows significantly higher numbers compared to those from insideAirBnB.\n",
    "* A plethora of factors might be responsible for that:\n",
    "    * Firstly, most of the insideAirBnB maps, as discussed above, cover a different area than the actual cities. Consequently, the data I've gathered includes a broader geographical space, which could lead to higher numbers.\n",
    "    * Secondly, since I am not familiar with the collection procedure of the websites, they might use different methods to collect and report data.\n",
    "    * Lastly, the calculations shown are based on processes that may not be optimal, and certain assumptions were made during these calculations.\n",
    "* In conclusion, there are differences between the insideAirBnB data and my research. Unfortunately, due to limited access to the researched websites, I am unable to conduct a thorough data comparison to further investigate the source of these discrepancies."
   ]
  },
  {
   "cell_type": "markdown",
   "metadata": {},
   "source": [
    "# Visualisation\n",
    "\n",
    "*Check the visualisations at the right of <https://insideairbnb.com/athens/>. Replicate these visualisations. Make the selection interactive, i.e., the user should be able to select a city from a dropdown box and see the corresponding visualisations. You can use any visualisation library.*"
   ]
  },
  {
   "cell_type": "markdown",
   "metadata": {},
   "source": [
    "* Calculating all needed values and creating the requested visualisations."
   ]
  },
  {
   "cell_type": "code",
   "execution_count": 56,
   "metadata": {},
   "outputs": [
    {
     "data": {
      "application/vnd.jupyter.widget-view+json": {
       "model_id": "9d4dd044674a4766a1133a7e24a0bc29",
       "version_major": 2,
       "version_minor": 0
      },
      "text/plain": [
       "Dropdown(description='Select City:', options=('Amsterdam', 'Athens', 'Barcelona', 'Berlin', 'Copenhagen', 'Dub…"
      ]
     },
     "metadata": {},
     "output_type": "display_data"
    },
    {
     "data": {
      "application/vnd.plotly.v1+json": {
       "config": {
        "plotlyServerURL": "https://plot.ly"
       },
       "data": [
        {
         "hoverinfo": "text",
         "hovertext": [
          "56 listings (0.6%)",
          "38 listings (0.4%)",
          "1789 listings (18.5%)",
          "7776 listings (80.5%)"
         ],
         "marker": {
          "color": [
           "#808080",
           "#aec6cf",
           "#77dd77",
           "#ff6961"
          ]
         },
         "orientation": "h",
         "text": [
          "0.6%",
          "0.4%",
          "18.5%",
          "80.5%"
         ],
         "type": "bar",
         "x": [
          56,
          38,
          1789,
          7776
         ],
         "xaxis": "x",
         "y": [
          "Hotel room",
          "Shared room",
          "Private room",
          "Entire home/apt"
         ],
         "yaxis": "y"
        },
        {
         "hovertemplate": "<b>Occupancy Range</b>: %{x}<br><b>Listings</b>: %{y}<extra></extra>",
         "marker": {
          "color": "skyblue"
         },
         "type": "bar",
         "x": [
          "0",
          "1-30",
          "31-60",
          "61-90",
          "91-120",
          "121-150",
          "151-180",
          "181-210",
          "211-240",
          "241-255",
          "255+"
         ],
         "xaxis": "x2",
         "y": [
          3022,
          3183,
          1638,
          411,
          190,
          154,
          123,
          121,
          109,
          66,
          642
         ],
         "yaxis": "y2"
        },
        {
         "domain": {
          "x": [
           0,
           0.45
          ],
          "y": [
           0.3666666666666667,
           0.6333333333333333
          ]
         },
         "hole": 0.5,
         "hoverinfo": "label+value+percent",
         "labels": [
          "licensed (91.8%)",
          "unlicensed (1.0%)",
          "exempt (7.2%)",
          "pending (0.0%)"
         ],
         "marker": {
          "colors": [
           "#1f77b4",
           "#aec6cf",
           "#ffa500",
           "#ff9248"
          ]
         },
         "textinfo": "label+percent",
         "textposition": "inside",
         "type": "pie",
         "values": [
          8869,
          97,
          693,
          0
         ]
        },
        {
         "hovertemplate": "Minimum Nights: %{x}<br>Listings: %{y}<extra></extra>",
         "marker": {
          "color": "skyblue"
         },
         "type": "bar",
         "x": [
          "1",
          "2",
          "3",
          "4",
          "5",
          "6",
          "7",
          "8",
          "9",
          "10",
          "11",
          "12",
          "13",
          "14",
          "15",
          "16",
          "17",
          "18",
          "19",
          "20",
          "21",
          "22",
          "23",
          "24",
          "25",
          "26",
          "27",
          "28",
          "29",
          "30",
          "31",
          "32",
          "33",
          "34",
          "35+"
         ],
         "xaxis": "x3",
         "y": [
          1718,
          2774,
          2655,
          1010,
          648,
          180,
          294,
          15,
          13,
          65,
          2,
          13,
          6,
          52,
          12,
          2,
          1,
          5,
          2,
          25,
          22,
          2,
          0,
          1,
          10,
          2,
          2,
          39,
          6,
          38,
          1,
          0,
          0,
          0,
          44
         ],
         "yaxis": "y3"
        },
        {
         "hovertemplate": "Listings per host: %{x}<br>Total listings: %{y}<extra></extra>",
         "marker": {
          "color": "skyblue"
         },
         "type": "bar",
         "x": [
          "1",
          "2",
          "3",
          "4",
          "5",
          "6",
          "7",
          "8",
          "9",
          "10+"
         ],
         "xaxis": "x4",
         "y": [
          7914,
          724,
          252,
          124,
          110,
          120,
          70,
          24,
          81,
          240
         ],
         "yaxis": "y4"
        },
        {
         "cells": {
          "values": [
           [
            "Mike",
            "Generator",
            "Sweets",
            "Neal Estate",
            "Hotel Not Hotel",
            "Arnold",
            "Wittenberg",
            "Abdullah",
            "Bunk",
            "ClinkNOORD",
            "Peter",
            "Alphons",
            "Silvina Soledad",
            "Vlad",
            "Robin",
            "Cecilia",
            "Cityden",
            "Dutch Masters",
            "David",
            "RoomPicks",
            "Melrose Hotel",
            "Henk",
            "St Christophers At The Winston",
            "Conscious Hotel Westerpark",
            "Mario",
            "Singel",
            "Jason",
            "Catalonia Vondel Amsterdam",
            "The Unbound",
            "Peter",
            "Ecomama",
            "Rogier & Nicole",
            "Surreal Estate",
            "Marcel",
            "Q-Factory",
            "Sir Adam, Part Of Sircle Colle",
            "The Niu Fender",
            "Andrea",
            "Daniella",
            "The Social Hub",
            "Sonder (Amsterdam)",
            "Ton",
            "Thomas",
            "Limehome",
            "Johnny",
            "EasyHotel Amsterdam City Center",
            "Lucio",
            "Max Brown Hotel Museum Square",
            "Pestana Amsterdam Riverside",
            "Suzanne"
           ],
           [
            24,
            0,
            4,
            19,
            0,
            16,
            14,
            0,
            0,
            0,
            11,
            0,
            10,
            4,
            0,
            8,
            9,
            9,
            0,
            0,
            0,
            1,
            0,
            0,
            9,
            0,
            6,
            0,
            3,
            7,
            0,
            7,
            7,
            0,
            0,
            0,
            0,
            5,
            0,
            0,
            0,
            6,
            0,
            3,
            6,
            0,
            0,
            0,
            0,
            4
           ],
           [
            4,
            12,
            12,
            0,
            19,
            2,
            0,
            14,
            10,
            0,
            0,
            10,
            0,
            6,
            10,
            2,
            0,
            0,
            7,
            0,
            9,
            8,
            5,
            9,
            0,
            8,
            2,
            8,
            4,
            0,
            4,
            0,
            0,
            7,
            7,
            7,
            7,
            2,
            6,
            1,
            6,
            0,
            6,
            3,
            0,
            6,
            6,
            6,
            6,
            0
           ],
           [
            0,
            8,
            0,
            0,
            0,
            0,
            0,
            0,
            2,
            7,
            0,
            0,
            0,
            0,
            0,
            0,
            0,
            0,
            2,
            0,
            0,
            0,
            4,
            0,
            0,
            0,
            0,
            0,
            0,
            0,
            3,
            0,
            0,
            0,
            0,
            0,
            0,
            0,
            0,
            0,
            0,
            0,
            0,
            0,
            0,
            0,
            0,
            0,
            0,
            2
           ],
           [
            0,
            2,
            6,
            0,
            0,
            0,
            0,
            0,
            0,
            4,
            0,
            0,
            0,
            0,
            0,
            0,
            0,
            0,
            0,
            9,
            0,
            0,
            0,
            0,
            0,
            0,
            0,
            0,
            0,
            0,
            0,
            0,
            0,
            0,
            0,
            0,
            0,
            0,
            0,
            5,
            0,
            0,
            0,
            0,
            0,
            0,
            0,
            0,
            0,
            0
           ],
           [
            28,
            22,
            22,
            19,
            19,
            18,
            14,
            14,
            12,
            11,
            11,
            10,
            10,
            10,
            10,
            10,
            9,
            9,
            9,
            9,
            9,
            9,
            9,
            9,
            9,
            8,
            8,
            8,
            7,
            7,
            7,
            7,
            7,
            7,
            7,
            7,
            7,
            7,
            6,
            6,
            6,
            6,
            6,
            6,
            6,
            6,
            6,
            6,
            6,
            6
           ]
          ]
         },
         "domain": {
          "x": [
           0.55,
           1
          ],
          "y": [
           0,
           0.26666666666666666
          ]
         },
         "header": {
          "values": [
           "Host Name",
           "#Entire homes/apts",
           "#Private rooms",
           "#Shared rooms",
           "#Hotel Rooms",
           "#Listings"
          ]
         },
         "type": "table"
        }
       ],
       "layout": {
        "annotations": [
         {
          "font": {
           "size": 16
          },
          "showarrow": false,
          "text": "Room Type",
          "x": 0.225,
          "xanchor": "center",
          "xref": "paper",
          "y": 1,
          "yanchor": "bottom",
          "yref": "paper"
         },
         {
          "font": {
           "size": 16
          },
          "showarrow": false,
          "text": "Activity",
          "x": 0.775,
          "xanchor": "center",
          "xref": "paper",
          "y": 1,
          "yanchor": "bottom",
          "yref": "paper"
         },
         {
          "font": {
           "size": 16
          },
          "showarrow": false,
          "text": "Licenses",
          "x": 0.225,
          "xanchor": "center",
          "xref": "paper",
          "y": 0.6333333333333333,
          "yanchor": "bottom",
          "yref": "paper"
         },
         {
          "font": {
           "size": 16
          },
          "showarrow": false,
          "text": "Short-Term Rentals",
          "x": 0.775,
          "xanchor": "center",
          "xref": "paper",
          "y": 0.6333333333333333,
          "yanchor": "bottom",
          "yref": "paper"
         },
         {
          "font": {
           "size": 16
          },
          "showarrow": false,
          "text": "Listings per Host",
          "x": 0.225,
          "xanchor": "center",
          "xref": "paper",
          "y": 0.26666666666666666,
          "yanchor": "bottom",
          "yref": "paper"
         },
         {
          "font": {
           "size": 16
          },
          "showarrow": false,
          "text": "Top Hosts",
          "x": 0.775,
          "xanchor": "center",
          "xref": "paper",
          "y": 0.26666666666666666,
          "yanchor": "bottom",
          "yref": "paper"
         },
         {
          "font": {
           "color": "black"
          },
          "showarrow": false,
          "text": "56.2 average nights booked",
          "x": 1,
          "xanchor": "right",
          "xref": "x2 domain",
          "y": 0.95,
          "yref": "y2 domain"
         },
         {
          "font": {
           "color": "black"
          },
          "showarrow": false,
          "text": "289.6 price/night",
          "x": 1,
          "xanchor": "right",
          "xref": "x2 domain",
          "y": 0.85,
          "yref": "y2 domain"
         },
         {
          "font": {
           "color": "black"
          },
          "showarrow": false,
          "text": "10029.9 average income",
          "x": 1,
          "xanchor": "right",
          "xref": "x2 domain",
          "y": 0.75,
          "yref": "y2 domain"
         },
         {
          "font": {
           "color": "grey"
          },
          "showarrow": false,
          "text": "STR Threshold",
          "textangle": 90,
          "x": "30",
          "xref": "x3",
          "xshift": -10,
          "y": 1664.3999999999999,
          "yref": "y3"
         },
         {
          "font": {
           "color": "black"
          },
          "showarrow": false,
          "text": "99.1% short-term rentals (9576)",
          "x": 1,
          "xanchor": "right",
          "xref": "x3 domain",
          "y": 0.85,
          "yref": "y3 domain"
         },
         {
          "font": {
           "color": "black"
          },
          "showarrow": false,
          "text": "0.9% longer-term rentals (83)",
          "x": 1,
          "xanchor": "right",
          "xref": "x3 domain",
          "y": 0.95,
          "yref": "y3 domain"
         },
         {
          "font": {
           "color": "black",
           "family": "Arial",
           "size": 12
          },
          "showarrow": false,
          "text": "7914 (81.9%) single listings",
          "x": 1,
          "xanchor": "right",
          "xref": "x4 domain",
          "y": 0.95,
          "yref": "y4 domain"
         },
         {
          "font": {
           "color": "black",
           "family": "Arial",
           "size": 12
          },
          "showarrow": false,
          "text": "1745 (18.1%) multi-listings",
          "x": 1,
          "xanchor": "right",
          "xref": "x4 domain",
          "y": 0.85,
          "yref": "y4 domain"
         }
        ],
        "height": 1000,
        "shapes": [
         {
          "line": {
           "color": "grey",
           "dash": "dash"
          },
          "type": "line",
          "x0": "30",
          "x1": "30",
          "xref": "x3",
          "y0": 0,
          "y1": 2774,
          "yref": "y3"
         }
        ],
        "showlegend": false,
        "template": {
         "data": {
          "bar": [
           {
            "error_x": {
             "color": "#2a3f5f"
            },
            "error_y": {
             "color": "#2a3f5f"
            },
            "marker": {
             "line": {
              "color": "#E5ECF6",
              "width": 0.5
             },
             "pattern": {
              "fillmode": "overlay",
              "size": 10,
              "solidity": 0.2
             }
            },
            "type": "bar"
           }
          ],
          "barpolar": [
           {
            "marker": {
             "line": {
              "color": "#E5ECF6",
              "width": 0.5
             },
             "pattern": {
              "fillmode": "overlay",
              "size": 10,
              "solidity": 0.2
             }
            },
            "type": "barpolar"
           }
          ],
          "carpet": [
           {
            "aaxis": {
             "endlinecolor": "#2a3f5f",
             "gridcolor": "white",
             "linecolor": "white",
             "minorgridcolor": "white",
             "startlinecolor": "#2a3f5f"
            },
            "baxis": {
             "endlinecolor": "#2a3f5f",
             "gridcolor": "white",
             "linecolor": "white",
             "minorgridcolor": "white",
             "startlinecolor": "#2a3f5f"
            },
            "type": "carpet"
           }
          ],
          "choropleth": [
           {
            "colorbar": {
             "outlinewidth": 0,
             "ticks": ""
            },
            "type": "choropleth"
           }
          ],
          "contour": [
           {
            "colorbar": {
             "outlinewidth": 0,
             "ticks": ""
            },
            "colorscale": [
             [
              0,
              "#0d0887"
             ],
             [
              0.1111111111111111,
              "#46039f"
             ],
             [
              0.2222222222222222,
              "#7201a8"
             ],
             [
              0.3333333333333333,
              "#9c179e"
             ],
             [
              0.4444444444444444,
              "#bd3786"
             ],
             [
              0.5555555555555556,
              "#d8576b"
             ],
             [
              0.6666666666666666,
              "#ed7953"
             ],
             [
              0.7777777777777778,
              "#fb9f3a"
             ],
             [
              0.8888888888888888,
              "#fdca26"
             ],
             [
              1,
              "#f0f921"
             ]
            ],
            "type": "contour"
           }
          ],
          "contourcarpet": [
           {
            "colorbar": {
             "outlinewidth": 0,
             "ticks": ""
            },
            "type": "contourcarpet"
           }
          ],
          "heatmap": [
           {
            "colorbar": {
             "outlinewidth": 0,
             "ticks": ""
            },
            "colorscale": [
             [
              0,
              "#0d0887"
             ],
             [
              0.1111111111111111,
              "#46039f"
             ],
             [
              0.2222222222222222,
              "#7201a8"
             ],
             [
              0.3333333333333333,
              "#9c179e"
             ],
             [
              0.4444444444444444,
              "#bd3786"
             ],
             [
              0.5555555555555556,
              "#d8576b"
             ],
             [
              0.6666666666666666,
              "#ed7953"
             ],
             [
              0.7777777777777778,
              "#fb9f3a"
             ],
             [
              0.8888888888888888,
              "#fdca26"
             ],
             [
              1,
              "#f0f921"
             ]
            ],
            "type": "heatmap"
           }
          ],
          "heatmapgl": [
           {
            "colorbar": {
             "outlinewidth": 0,
             "ticks": ""
            },
            "colorscale": [
             [
              0,
              "#0d0887"
             ],
             [
              0.1111111111111111,
              "#46039f"
             ],
             [
              0.2222222222222222,
              "#7201a8"
             ],
             [
              0.3333333333333333,
              "#9c179e"
             ],
             [
              0.4444444444444444,
              "#bd3786"
             ],
             [
              0.5555555555555556,
              "#d8576b"
             ],
             [
              0.6666666666666666,
              "#ed7953"
             ],
             [
              0.7777777777777778,
              "#fb9f3a"
             ],
             [
              0.8888888888888888,
              "#fdca26"
             ],
             [
              1,
              "#f0f921"
             ]
            ],
            "type": "heatmapgl"
           }
          ],
          "histogram": [
           {
            "marker": {
             "pattern": {
              "fillmode": "overlay",
              "size": 10,
              "solidity": 0.2
             }
            },
            "type": "histogram"
           }
          ],
          "histogram2d": [
           {
            "colorbar": {
             "outlinewidth": 0,
             "ticks": ""
            },
            "colorscale": [
             [
              0,
              "#0d0887"
             ],
             [
              0.1111111111111111,
              "#46039f"
             ],
             [
              0.2222222222222222,
              "#7201a8"
             ],
             [
              0.3333333333333333,
              "#9c179e"
             ],
             [
              0.4444444444444444,
              "#bd3786"
             ],
             [
              0.5555555555555556,
              "#d8576b"
             ],
             [
              0.6666666666666666,
              "#ed7953"
             ],
             [
              0.7777777777777778,
              "#fb9f3a"
             ],
             [
              0.8888888888888888,
              "#fdca26"
             ],
             [
              1,
              "#f0f921"
             ]
            ],
            "type": "histogram2d"
           }
          ],
          "histogram2dcontour": [
           {
            "colorbar": {
             "outlinewidth": 0,
             "ticks": ""
            },
            "colorscale": [
             [
              0,
              "#0d0887"
             ],
             [
              0.1111111111111111,
              "#46039f"
             ],
             [
              0.2222222222222222,
              "#7201a8"
             ],
             [
              0.3333333333333333,
              "#9c179e"
             ],
             [
              0.4444444444444444,
              "#bd3786"
             ],
             [
              0.5555555555555556,
              "#d8576b"
             ],
             [
              0.6666666666666666,
              "#ed7953"
             ],
             [
              0.7777777777777778,
              "#fb9f3a"
             ],
             [
              0.8888888888888888,
              "#fdca26"
             ],
             [
              1,
              "#f0f921"
             ]
            ],
            "type": "histogram2dcontour"
           }
          ],
          "mesh3d": [
           {
            "colorbar": {
             "outlinewidth": 0,
             "ticks": ""
            },
            "type": "mesh3d"
           }
          ],
          "parcoords": [
           {
            "line": {
             "colorbar": {
              "outlinewidth": 0,
              "ticks": ""
             }
            },
            "type": "parcoords"
           }
          ],
          "pie": [
           {
            "automargin": true,
            "type": "pie"
           }
          ],
          "scatter": [
           {
            "fillpattern": {
             "fillmode": "overlay",
             "size": 10,
             "solidity": 0.2
            },
            "type": "scatter"
           }
          ],
          "scatter3d": [
           {
            "line": {
             "colorbar": {
              "outlinewidth": 0,
              "ticks": ""
             }
            },
            "marker": {
             "colorbar": {
              "outlinewidth": 0,
              "ticks": ""
             }
            },
            "type": "scatter3d"
           }
          ],
          "scattercarpet": [
           {
            "marker": {
             "colorbar": {
              "outlinewidth": 0,
              "ticks": ""
             }
            },
            "type": "scattercarpet"
           }
          ],
          "scattergeo": [
           {
            "marker": {
             "colorbar": {
              "outlinewidth": 0,
              "ticks": ""
             }
            },
            "type": "scattergeo"
           }
          ],
          "scattergl": [
           {
            "marker": {
             "colorbar": {
              "outlinewidth": 0,
              "ticks": ""
             }
            },
            "type": "scattergl"
           }
          ],
          "scattermapbox": [
           {
            "marker": {
             "colorbar": {
              "outlinewidth": 0,
              "ticks": ""
             }
            },
            "type": "scattermapbox"
           }
          ],
          "scatterpolar": [
           {
            "marker": {
             "colorbar": {
              "outlinewidth": 0,
              "ticks": ""
             }
            },
            "type": "scatterpolar"
           }
          ],
          "scatterpolargl": [
           {
            "marker": {
             "colorbar": {
              "outlinewidth": 0,
              "ticks": ""
             }
            },
            "type": "scatterpolargl"
           }
          ],
          "scatterternary": [
           {
            "marker": {
             "colorbar": {
              "outlinewidth": 0,
              "ticks": ""
             }
            },
            "type": "scatterternary"
           }
          ],
          "surface": [
           {
            "colorbar": {
             "outlinewidth": 0,
             "ticks": ""
            },
            "colorscale": [
             [
              0,
              "#0d0887"
             ],
             [
              0.1111111111111111,
              "#46039f"
             ],
             [
              0.2222222222222222,
              "#7201a8"
             ],
             [
              0.3333333333333333,
              "#9c179e"
             ],
             [
              0.4444444444444444,
              "#bd3786"
             ],
             [
              0.5555555555555556,
              "#d8576b"
             ],
             [
              0.6666666666666666,
              "#ed7953"
             ],
             [
              0.7777777777777778,
              "#fb9f3a"
             ],
             [
              0.8888888888888888,
              "#fdca26"
             ],
             [
              1,
              "#f0f921"
             ]
            ],
            "type": "surface"
           }
          ],
          "table": [
           {
            "cells": {
             "fill": {
              "color": "#EBF0F8"
             },
             "line": {
              "color": "white"
             }
            },
            "header": {
             "fill": {
              "color": "#C8D4E3"
             },
             "line": {
              "color": "white"
             }
            },
            "type": "table"
           }
          ]
         },
         "layout": {
          "annotationdefaults": {
           "arrowcolor": "#2a3f5f",
           "arrowhead": 0,
           "arrowwidth": 1
          },
          "autotypenumbers": "strict",
          "coloraxis": {
           "colorbar": {
            "outlinewidth": 0,
            "ticks": ""
           }
          },
          "colorscale": {
           "diverging": [
            [
             0,
             "#8e0152"
            ],
            [
             0.1,
             "#c51b7d"
            ],
            [
             0.2,
             "#de77ae"
            ],
            [
             0.3,
             "#f1b6da"
            ],
            [
             0.4,
             "#fde0ef"
            ],
            [
             0.5,
             "#f7f7f7"
            ],
            [
             0.6,
             "#e6f5d0"
            ],
            [
             0.7,
             "#b8e186"
            ],
            [
             0.8,
             "#7fbc41"
            ],
            [
             0.9,
             "#4d9221"
            ],
            [
             1,
             "#276419"
            ]
           ],
           "sequential": [
            [
             0,
             "#0d0887"
            ],
            [
             0.1111111111111111,
             "#46039f"
            ],
            [
             0.2222222222222222,
             "#7201a8"
            ],
            [
             0.3333333333333333,
             "#9c179e"
            ],
            [
             0.4444444444444444,
             "#bd3786"
            ],
            [
             0.5555555555555556,
             "#d8576b"
            ],
            [
             0.6666666666666666,
             "#ed7953"
            ],
            [
             0.7777777777777778,
             "#fb9f3a"
            ],
            [
             0.8888888888888888,
             "#fdca26"
            ],
            [
             1,
             "#f0f921"
            ]
           ],
           "sequentialminus": [
            [
             0,
             "#0d0887"
            ],
            [
             0.1111111111111111,
             "#46039f"
            ],
            [
             0.2222222222222222,
             "#7201a8"
            ],
            [
             0.3333333333333333,
             "#9c179e"
            ],
            [
             0.4444444444444444,
             "#bd3786"
            ],
            [
             0.5555555555555556,
             "#d8576b"
            ],
            [
             0.6666666666666666,
             "#ed7953"
            ],
            [
             0.7777777777777778,
             "#fb9f3a"
            ],
            [
             0.8888888888888888,
             "#fdca26"
            ],
            [
             1,
             "#f0f921"
            ]
           ]
          },
          "colorway": [
           "#636efa",
           "#EF553B",
           "#00cc96",
           "#ab63fa",
           "#FFA15A",
           "#19d3f3",
           "#FF6692",
           "#B6E880",
           "#FF97FF",
           "#FECB52"
          ],
          "font": {
           "color": "#2a3f5f"
          },
          "geo": {
           "bgcolor": "white",
           "lakecolor": "white",
           "landcolor": "#E5ECF6",
           "showlakes": true,
           "showland": true,
           "subunitcolor": "white"
          },
          "hoverlabel": {
           "align": "left"
          },
          "hovermode": "closest",
          "mapbox": {
           "style": "light"
          },
          "paper_bgcolor": "white",
          "plot_bgcolor": "#E5ECF6",
          "polar": {
           "angularaxis": {
            "gridcolor": "white",
            "linecolor": "white",
            "ticks": ""
           },
           "bgcolor": "#E5ECF6",
           "radialaxis": {
            "gridcolor": "white",
            "linecolor": "white",
            "ticks": ""
           }
          },
          "scene": {
           "xaxis": {
            "backgroundcolor": "#E5ECF6",
            "gridcolor": "white",
            "gridwidth": 2,
            "linecolor": "white",
            "showbackground": true,
            "ticks": "",
            "zerolinecolor": "white"
           },
           "yaxis": {
            "backgroundcolor": "#E5ECF6",
            "gridcolor": "white",
            "gridwidth": 2,
            "linecolor": "white",
            "showbackground": true,
            "ticks": "",
            "zerolinecolor": "white"
           },
           "zaxis": {
            "backgroundcolor": "#E5ECF6",
            "gridcolor": "white",
            "gridwidth": 2,
            "linecolor": "white",
            "showbackground": true,
            "ticks": "",
            "zerolinecolor": "white"
           }
          },
          "shapedefaults": {
           "line": {
            "color": "#2a3f5f"
           }
          },
          "ternary": {
           "aaxis": {
            "gridcolor": "white",
            "linecolor": "white",
            "ticks": ""
           },
           "baxis": {
            "gridcolor": "white",
            "linecolor": "white",
            "ticks": ""
           },
           "bgcolor": "#E5ECF6",
           "caxis": {
            "gridcolor": "white",
            "linecolor": "white",
            "ticks": ""
           }
          },
          "title": {
           "x": 0.05
          },
          "xaxis": {
           "automargin": true,
           "gridcolor": "white",
           "linecolor": "white",
           "ticks": "",
           "title": {
            "standoff": 15
           },
           "zerolinecolor": "white",
           "zerolinewidth": 2
          },
          "yaxis": {
           "automargin": true,
           "gridcolor": "white",
           "linecolor": "white",
           "ticks": "",
           "title": {
            "standoff": 15
           },
           "zerolinecolor": "white",
           "zerolinewidth": 2
          }
         }
        },
        "title": {
         "text": "Multiple Visualizations for Amsterdam"
        },
        "width": 1100,
        "xaxis": {
         "anchor": "y",
         "domain": [
          0,
          0.45
         ]
        },
        "xaxis2": {
         "anchor": "y2",
         "domain": [
          0.55,
          1
         ]
        },
        "xaxis3": {
         "anchor": "y3",
         "domain": [
          0.55,
          1
         ]
        },
        "xaxis4": {
         "anchor": "y4",
         "domain": [
          0,
          0.45
         ]
        },
        "yaxis": {
         "anchor": "x",
         "domain": [
          0.7333333333333334,
          1
         ]
        },
        "yaxis2": {
         "anchor": "x2",
         "domain": [
          0.7333333333333334,
          1
         ]
        },
        "yaxis3": {
         "anchor": "x3",
         "domain": [
          0.3666666666666667,
          0.6333333333333333
         ]
        },
        "yaxis4": {
         "anchor": "x4",
         "domain": [
          0,
          0.26666666666666666
         ]
        }
       }
      }
     },
     "metadata": {},
     "output_type": "display_data"
    }
   ],
   "source": [
    "# Get list of city folders\n",
    "cities = [city for city in os.listdir(data_dir) if os.path.isdir(os.path.join(data_dir, city))]\n",
    "\n",
    "# Dropdown widget for city selection\n",
    "city_dropdown = widgets.Dropdown(\n",
    "    options=cities,\n",
    "    description='Select City:',\n",
    "    style={'description_width': 'initial'}\n",
    ")\n",
    "\n",
    "# Function to load data and generate the charts based on the selected city\n",
    "def update_chart(change):\n",
    "    clear_output(wait=True)\n",
    "    display(city_dropdown)\n",
    "    \n",
    "    selected_city = change['new']\n",
    "    file_path = os.path.join(data_dir, selected_city, 'listings.csv')\n",
    "    \n",
    "    # Load listings data\n",
    "    listing = pd.read_csv(file_path)\n",
    "    \n",
    "    # Calculate average metrics used in annotations\n",
    "    listing['nights_booked'] = listing['number_of_reviews_ltm'].fillna(0) * 2 * 3\n",
    "    listing['income'] = listing['price'].fillna(0) * listing['nights_booked']\n",
    "    average_nights_booked = listing['nights_booked'].mean()\n",
    "    average_price_per_night = listing['price'].mean()\n",
    "    average_income = listing['income'].mean()\n",
    "    \n",
    "    # Calculate additional values for short-term and long-term rental percentages used in annotations\n",
    "    short_term_threshold = 30\n",
    "    short_term_rentals = listing[listing['minimum_nights'] < short_term_threshold].shape[0]\n",
    "    long_term_rentals = listing[listing['minimum_nights'] >= short_term_threshold].shape[0]\n",
    "    total_listings = len(listing)\n",
    "    \n",
    "    short_term_percentage = (short_term_rentals / total_listings) * 100\n",
    "    long_term_percentage = (long_term_rentals / total_listings) * 100\n",
    "\n",
    "    # Calculate single and multi-listings information used in annotations\n",
    "    listings_per_host = listing['calculated_host_listings_count']\n",
    "    listings_per_host = listings_per_host.apply(lambda x: 10 if x > 10 else x)\n",
    "    single_listings = listings_per_host.value_counts().get(1, 0)\n",
    "    single_listing_percentage = (single_listings / total_listings) * 100\n",
    "    multi_listings = total_listings - single_listings\n",
    "    multi_listing_percentage = 100 - single_listing_percentage\n",
    "\n",
    "    # Create the subplot grid (3 rows, 2 columns)\n",
    "    fig = make_subplots(\n",
    "        rows=3, cols=2,\n",
    "        subplot_titles=(\"Room Type\", \"Activity\", \n",
    "                        \"Licenses\", \"Short-Term Rentals\",\n",
    "                        \"Listings per Host\", \"Top Hosts\"),\n",
    "        specs=[\n",
    "            [{\"type\": \"xy\"}, {\"type\": \"xy\"}],\n",
    "            [{\"type\": \"domain\"}, {\"type\": \"xy\"}],\n",
    "            [{\"type\": \"xy\"}, {\"type\": \"table\"}]\n",
    "        ],\n",
    "        vertical_spacing=0.1,\n",
    "        horizontal_spacing=0.1\n",
    "    )\n",
    "\n",
    "    # Visualization 1: Room Type Distribution (Bar chart)\n",
    "    room_type_counts = listing['room_type'].value_counts()\n",
    "    total_listings = room_type_counts.sum()\n",
    "    room_type_percentages = (room_type_counts / total_listings) * 100\n",
    "\n",
    "    desired_order = ['Entire home/apt', 'Private room', 'Shared room', 'Hotel room']\n",
    "    room_type_counts = room_type_counts.reindex(desired_order).fillna(0)\n",
    "    room_type_percentages = room_type_percentages.reindex(desired_order).fillna(0)\n",
    "\n",
    "    room_types = list(reversed(room_type_counts.index.tolist()))\n",
    "    counts = list(reversed(room_type_counts.values))\n",
    "    percentages = list(reversed(room_type_percentages.values))\n",
    "\n",
    "    fig.add_trace(go.Bar(\n",
    "        y=room_types,\n",
    "        x=counts,\n",
    "        orientation='h',\n",
    "        marker=dict(color=['#808080', '#aec6cf', '#77dd77', '#ff6961']),\n",
    "        text=[f'{pct:.1f}%' for pct in percentages],\n",
    "        hoverinfo='text',\n",
    "        hovertext=[f\"{count} listings ({pct:.1f}%)\" for count, pct in zip(counts, percentages)]\n",
    "    ), row=1, col=1)\n",
    "\n",
    "    # Visualization 2: Activity Distribution (Bar chart)\n",
    "    listing['nights_booked'] = listing['number_of_reviews_ltm'].fillna(0) * 2 * 3\n",
    "    listing['income'] = listing['price'].fillna(0) * listing['nights_booked']\n",
    "    \n",
    "    bins = [0, 1, 30, 60, 90, 120, 150, 180, 210, 240, 255] + [np.inf]\n",
    "    labels = [\"0\", \"1-30\", \"31-60\", \"61-90\", \"91-120\", \"121-150\", \"151-180\", \"181-210\", \"211-240\", \"241-255\", \"255+\"]\n",
    "    listing['occupancy_bin'] = pd.cut(listing['nights_booked'], bins=bins, labels=labels, right=False)\n",
    "    \n",
    "    occupancy_counts = listing['occupancy_bin'].value_counts(sort=False)\n",
    "    \n",
    "    fig.add_trace(go.Bar(\n",
    "        x=occupancy_counts.index,\n",
    "        y=occupancy_counts.values,\n",
    "        marker_color='skyblue',\n",
    "        hovertemplate='<b>Occupancy Range</b>: %{x}<br>' +\n",
    "                      '<b>Listings</b>: %{y}<extra></extra>'\n",
    "    ), row=1, col=2)\n",
    "\n",
    "    # Visualization 3: License Distribution (Pie chart)\n",
    "    license_counts = {'licensed': 0, 'unlicensed': 0, 'exempt': 0, 'pending': 0}\n",
    "    license_counts['unlicensed'] += listing['license'].isna().sum()\n",
    "\n",
    "    licensed_listings = listing['license'].dropna().astype(str)\n",
    "    exempt_count = licensed_listings.str.contains(\"exempt\", case=False, na=False).sum()\n",
    "    pending_count = licensed_listings.str.contains(\"pending\", case=False, na=False).sum()\n",
    "\n",
    "    license_counts['exempt'] += exempt_count\n",
    "    license_counts['pending'] += pending_count\n",
    "\n",
    "    licensed_count = len(licensed_listings) - exempt_count - pending_count\n",
    "    license_counts['licensed'] += licensed_count\n",
    "\n",
    "    total_listings = sum(license_counts.values())\n",
    "    license_percentages = {k: (v / total_listings) * 100 for k, v in license_counts.items()}\n",
    "\n",
    "    fig.add_trace(go.Pie(\n",
    "        labels=[f\"{k} ({v:.1f}%)\" for k, v in license_percentages.items()],\n",
    "        values=list(license_counts.values()),\n",
    "        hole=0.5,\n",
    "        textinfo='label+percent',\n",
    "        hoverinfo='label+value+percent',\n",
    "        marker=dict(colors=['#1f77b4', '#aec6cf', '#ffa500', '#ff9248']),\n",
    "        textposition='inside'\n",
    "    ), row=2, col=1)\n",
    "\n",
    "    # Visualization 4: Short-Term Rentals Distribution (Bar chart)\n",
    "    bins = list(range(1, 36)) + [np.inf]\n",
    "    labels = list(range(1, 35)) + ['35+']\n",
    "    listing['minimum_nights_binned'] = pd.cut(\n",
    "        listing['minimum_nights'],\n",
    "        bins=bins,\n",
    "        labels=labels,\n",
    "        right=False\n",
    "    )\n",
    "\n",
    "    listings_count_binned = listing['minimum_nights_binned'].value_counts().sort_index()\n",
    "\n",
    "    short_term_threshold = 30\n",
    "    short_term_rentals = listing[listing['minimum_nights'] < short_term_threshold].shape[0]\n",
    "    long_term_rentals = listing[listing['minimum_nights'] >= short_term_threshold].shape[0]\n",
    "    \n",
    "    fig.add_trace(go.Bar(\n",
    "        x=listings_count_binned.index.astype(str),\n",
    "        y=listings_count_binned.values,\n",
    "        marker_color='skyblue',\n",
    "        hovertemplate='Minimum Nights: %{x}<br>Listings: %{y}<extra></extra>'\n",
    "    ), row=2, col=2)\n",
    "\n",
    "    # Visualization 5: Listings per Host (Bar chart)\n",
    "    listings_per_host = listing['calculated_host_listings_count']\n",
    "    listings_per_host = listings_per_host.apply(lambda x: 10 if x > 10 else x)\n",
    "    listings_per_host = listings_per_host.value_counts().sort_index()\n",
    "\n",
    "    listings_per_host.rename(index={10: '10+'}, inplace=True)\n",
    "\n",
    "    fig.add_trace(go.Bar(\n",
    "        x=listings_per_host.index.astype(str),\n",
    "        y=listings_per_host.values,\n",
    "        marker_color='skyblue',\n",
    "        hovertemplate='Listings per host: %{x}<br>Total listings: %{y}<extra></extra>'\n",
    "    ), row=3, col=1)\n",
    "\n",
    "    # Visualization 6: Top Hosts (Table)\n",
    "    filtered_listing = listing[['host_id','host_name', 'room_type']]\n",
    "    room_type_counts = (\n",
    "        filtered_listing\n",
    "        .groupby(['host_id','host_name', 'room_type'])\n",
    "        .size()\n",
    "        .unstack(fill_value=0)\n",
    "        .reindex(columns=['Entire home/apt', 'Private room', 'Shared room', 'Hotel room'], fill_value=0)\n",
    "    )\n",
    "\n",
    "    room_type_counts = room_type_counts.rename(columns={\n",
    "        'Entire home/apt': '#Entire homes/apts',\n",
    "        'Private room': '#Private rooms',\n",
    "        'Shared room': '#Shared rooms',\n",
    "        'Hotel room': '#Hotel Rooms'\n",
    "    })\n",
    "    room_type_counts['#Listings'] = room_type_counts.sum(axis=1)\n",
    "    top_hosts = room_type_counts.sort_values(by='#Listings', ascending=False).head(50)\n",
    "    top_hosts.reset_index(inplace=True)\n",
    "    top_hosts = top_hosts.rename(columns={'host_name': 'Host Name'})\n",
    "\n",
    "    fig.add_trace(go.Table(\n",
    "        header=dict(values=[\"Host Name\", \"#Entire homes/apts\", \"#Private rooms\", \"#Shared rooms\", \"#Hotel Rooms\", \"#Listings\"]),\n",
    "        cells=dict(values=[top_hosts['Host Name'], top_hosts['#Entire homes/apts'], top_hosts['#Private rooms'], \n",
    "                           top_hosts['#Shared rooms'], top_hosts['#Hotel Rooms'], top_hosts['#Listings']])\n",
    "    ), row=3, col=2)\n",
    "\n",
    "    # Update layout and show the figure\n",
    "    fig.update_layout(\n",
    "        height=1000,\n",
    "        width=1100,\n",
    "        title_text=f\"Multiple Visualizations for {selected_city}\",\n",
    "        showlegend=False\n",
    "    )\n",
    "    \n",
    "    # Annotations for subplot 2\n",
    "    fig.add_annotation(\n",
    "        x=1, y=0.95,\n",
    "        text=f\"{average_nights_booked:.1f} average nights booked\",\n",
    "        showarrow=False,\n",
    "        xref=\"x domain\", yref=\"y domain\",\n",
    "        font=dict(color=\"black\"),\n",
    "        xanchor=\"right\",\n",
    "        row=1, col=2\n",
    "    )\n",
    "\n",
    "    fig.add_annotation(\n",
    "        x=1, y=0.85,\n",
    "        text=f\"{average_price_per_night:.1f} price/night\",\n",
    "        showarrow=False,\n",
    "        xref=\"x domain\", yref=\"y domain\",\n",
    "        font=dict(color=\"black\"),\n",
    "        xanchor=\"right\",\n",
    "        row=1, col=2\n",
    "    )\n",
    "\n",
    "    fig.add_annotation(\n",
    "        x=1, y=0.75,\n",
    "        text=f\"{average_income:.1f} average income\",\n",
    "        showarrow=False,\n",
    "        xref=\"x domain\", yref=\"y domain\",\n",
    "        font=dict(color=\"black\"),\n",
    "        xanchor=\"right\",\n",
    "        row=1, col=2\n",
    "    )\n",
    "\n",
    "    # Annotations for subplot 4\n",
    "    fig.add_shape(\n",
    "        type=\"line\",\n",
    "        x0=str(short_term_threshold),\n",
    "        y0=0,\n",
    "        x1=str(short_term_threshold),\n",
    "        y1=max(listings_count_binned.values),\n",
    "        line=dict(color=\"grey\", dash=\"dash\"),\n",
    "        row=2, col=2\n",
    "    )\n",
    "\n",
    "    fig.add_annotation(\n",
    "        x=str(short_term_threshold),\n",
    "        y=max(listings_count_binned.values) * 0.6,\n",
    "        text=\"STR Threshold\",\n",
    "        showarrow=False,\n",
    "        font=dict(color=\"grey\"),\n",
    "        xshift=-10,\n",
    "        textangle=90,\n",
    "        row=2, col=2\n",
    "    )\n",
    "\n",
    "    fig.add_annotation(\n",
    "        x=1, y=0.85,\n",
    "        text=f\"{short_term_percentage:.1f}% short-term rentals ({short_term_rentals})\",\n",
    "        showarrow=False,\n",
    "        xref=\"x domain\", yref=\"y domain\",\n",
    "        font=dict(color=\"black\"),\n",
    "        xanchor=\"right\",\n",
    "        row=2, col=2\n",
    "    )\n",
    "\n",
    "    fig.add_annotation(\n",
    "        x=1, y=0.95,\n",
    "        text=f\"{long_term_percentage:.1f}% longer-term rentals ({long_term_rentals})\",\n",
    "        showarrow=False,\n",
    "        xref=\"x domain\", yref=\"y domain\",\n",
    "        font=dict(color=\"black\"),\n",
    "        xanchor=\"right\",\n",
    "        row=2, col=2\n",
    "    )\n",
    "\n",
    "    # Annotations for subplot 5\n",
    "    fig.add_annotation(\n",
    "        x=1, y=0.95,\n",
    "        text=f\"{single_listings} ({single_listing_percentage:.1f}%) single listings\",\n",
    "        showarrow=False,\n",
    "        xref=\"x domain\", yref=\"y domain\",\n",
    "        font=dict(size=12, color=\"black\", family=\"Arial\"),\n",
    "        xanchor=\"right\",\n",
    "        row=3, col=1\n",
    "    )\n",
    "\n",
    "    fig.add_annotation(\n",
    "        x=1, y=0.85,\n",
    "        text=f\"{multi_listings} ({multi_listing_percentage:.1f}%) multi-listings\",\n",
    "        showarrow=False,\n",
    "        xref=\"x domain\", yref=\"y domain\",\n",
    "        font=dict(size=12, color=\"black\", family=\"Arial\"),\n",
    "        xanchor=\"right\",\n",
    "        row=3, col=1\n",
    "    )\n",
    "\n",
    "    fig.show()\n",
    "\n",
    "# Attach the update function to the dropdown widget and display it\n",
    "city_dropdown.observe(update_chart, names='value')\n",
    "display(city_dropdown)\n",
    "\n",
    "# Manually trigger the update for the default city (Amsterdam)\n",
    "update_chart({'new': cities[0]})\n"
   ]
  },
  {
   "cell_type": "markdown",
   "metadata": {},
   "source": [
    "# Resources"
   ]
  },
  {
   "cell_type": "markdown",
   "metadata": {},
   "source": [
    "1. **Airbtics Occupancy Rate** <br>\n",
    "   https://airbtics.com/airbnb-occupancy-rate/\n",
    "\n",
    "2. **Amsterdam's Municipal Research and Statistics (O&S)** <br>\n",
    "   https://onderzoek.amsterdam.nl/interactief/dashboard-kerncijfers?tab=indicator&thema=bevolking&indicator=BEVTOTAAL&indeling=ggwgebieden&jaar=2024&gebied=GA01&taal=nl\n",
    "\n",
    "3. **Backlinko Airbnb Stats** <br>\n",
    "   https://backlinko.com/airbnb-stats#average-nights-per-airbnb-booking\n",
    "\n",
    "4. **Central Statistics Office (CSO) Ireland** <br>\n",
    "   https://visual.cso.ie/?body=entity/ima/cop/2022&boundary=C03880V04631&guid=F97E459B-57ED-49C0-8A28-2BC1C7F08E88\n",
    "\n",
    "5. **CityPopulation.de** <br>\n",
    "   https://www.citypopulation.de/en/italy/romacity/\n",
    "\n",
    "6. **Hellenic Statistical Authority (ELSTAT)** <br>\n",
    "   https://www.statistics.gr/el/statistics/-/publication/SAM03/-\n",
    "\n",
    "7. **Inside Airbnb** <br>\n",
    "   https://insideairbnb.com/\n",
    "\n",
    "8. **Instituto Nacional de Estadística (INE)** <br>\n",
    "   https://www.ine.es/nomen2/index.do?accion=busquedaAvanzada&entidad_amb=no&codProv=28&codMuni=79&codEC=0&codES=0&codNUC=0&denominacion_op=like&denominacion_txt=&L=1\n",
    "\n",
    "9. **Instituto Nacional de Estadística (INE)** <br>\n",
    "   https://www.ine.es/jaxiT3/Tabla.htm?t=59589&L=1\n",
    "\n",
    "10. **IstatData** <br>\n",
    "   https://esploradati.istat.it/databrowser/#/en/dw/categories/IT1,POP,1.0/POP_POPULATION/DCIS_POPRES1/DCIS_POPRES1_REG_MUN/IT1,22_289_DF_DCIS_POPRES1_9,1.0\n",
    "\n",
    "11. **Office for National Statistics (ONS)** <br>\n",
    "   https://www.nomisweb.co.uk/sources/census_2021/report?compare=E12000007\n",
    "\n",
    "12. **PORDATA** <br>\n",
    "   https://www.pordata.pt/pt/estatisticas/populacao/populacao-residente/populacao-residente-por-sexo-e-grupo-etario\n",
    "\n",
    "13. **Statistics Denmark's** <br>\n",
    "   https://www.statbank.dk/statbank5a/SelectVarVal/Define.asp?MainTable=FOLK1AM&PLanguage=1&PXSId=0&wsid=cftree\n",
    "\n",
    "14. **Statistik Austria** <br>\n",
    "   https://www.statistik.at/en/statistics/population-and-society/population/population-stock/population-at-beginning-of-year/quarter\n",
    "\n",
    "15. **Statistisches Landesamt Berlin (Berlin-Brandenburg State Statistical Office)** <br>\n",
    "   https://www.statistik-berlin-brandenburg.de/kommunalstatistik/einwohnerbestand-berlin\n",
    "\n",
    "16. **World Population Review** <br> \n",
    "   https://worldpopulationreview.com/cities/france"
   ]
  }
 ],
 "metadata": {
  "kernelspec": {
   "display_name": "Python 3",
   "language": "python",
   "name": "python3"
  },
  "language_info": {
   "codemirror_mode": {
    "name": "ipython",
    "version": 3
   },
   "file_extension": ".py",
   "mimetype": "text/x-python",
   "name": "python",
   "nbconvert_exporter": "python",
   "pygments_lexer": "ipython3",
   "version": "3.10.10"
  }
 },
 "nbformat": 4,
 "nbformat_minor": 4
}
